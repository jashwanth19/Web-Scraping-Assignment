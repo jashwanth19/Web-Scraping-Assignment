{
 "cells": [
  {
   "cell_type": "markdown",
   "id": "d414de46",
   "metadata": {},
   "source": [
    "# Install packages"
   ]
  },
  {
   "cell_type": "code",
   "execution_count": 1,
   "id": "1074e9cd",
   "metadata": {},
   "outputs": [
    {
     "name": "stdout",
     "output_type": "stream",
     "text": [
      "Requirement already satisfied: pandas in c:\\programdata\\anaconda3\\lib\\site-packages (1.3.4)\n",
      "Requirement already satisfied: python-dateutil>=2.7.3 in c:\\programdata\\anaconda3\\lib\\site-packages (from pandas) (2.8.2)\n",
      "Requirement already satisfied: numpy>=1.17.3 in c:\\programdata\\anaconda3\\lib\\site-packages (from pandas) (1.20.3)\n",
      "Requirement already satisfied: pytz>=2017.3 in c:\\programdata\\anaconda3\\lib\\site-packages (from pandas) (2021.3)\n",
      "Requirement already satisfied: six>=1.5 in c:\\programdata\\anaconda3\\lib\\site-packages (from python-dateutil>=2.7.3->pandas) (1.16.0)\n",
      "Requirement already satisfied: requests in c:\\programdata\\anaconda3\\lib\\site-packages (2.26.0)\n",
      "Requirement already satisfied: charset-normalizer~=2.0.0 in c:\\programdata\\anaconda3\\lib\\site-packages (from requests) (2.0.4)\n",
      "Requirement already satisfied: urllib3<1.27,>=1.21.1 in c:\\programdata\\anaconda3\\lib\\site-packages (from requests) (1.26.7)\n",
      "Requirement already satisfied: idna<4,>=2.5 in c:\\programdata\\anaconda3\\lib\\site-packages (from requests) (3.2)\n",
      "Requirement already satisfied: certifi>=2017.4.17 in c:\\programdata\\anaconda3\\lib\\site-packages (from requests) (2021.10.8)\n",
      "Requirement already satisfied: bs4 in c:\\programdata\\anaconda3\\lib\\site-packages (0.0.1)\n",
      "Requirement already satisfied: beautifulsoup4 in c:\\programdata\\anaconda3\\lib\\site-packages (from bs4) (4.10.0)\n",
      "Requirement already satisfied: soupsieve>1.2 in c:\\programdata\\anaconda3\\lib\\site-packages (from beautifulsoup4->bs4) (2.2.1)\n"
     ]
    }
   ],
   "source": [
    "!pip install pandas\n",
    "!pip install requests\n",
    "!pip install bs4\n"
   ]
  },
  {
   "cell_type": "markdown",
   "id": "4008faad",
   "metadata": {},
   "source": [
    "# Imports"
   ]
  },
  {
   "cell_type": "code",
   "execution_count": 87,
   "id": "885979f9",
   "metadata": {},
   "outputs": [],
   "source": [
    "import pandas as pd \n",
    "import requests\n",
    "from bs4 import BeautifulSoup\n",
    "import urllib.parse\n"
   ]
  },
  {
   "cell_type": "markdown",
   "id": "01e87ecd",
   "metadata": {},
   "source": [
    "# HTTP Request\n"
   ]
  },
  {
   "cell_type": "markdown",
   "id": "80837077",
   "metadata": {},
   "source": [
    "store website in variable"
   ]
  },
  {
   "cell_type": "code",
   "execution_count": 3,
   "id": "42679620",
   "metadata": {},
   "outputs": [],
   "source": [
    "website='https://www.flipkart.com/search?q=redmi+mobile&sid=tyy%2C4io&as=on&as-show=on&otracker=AS_QueryStore_OrganicAutoSuggest_1_5_na_na_na&otracker1=AS_QueryStore_OrganicAutoSuggest_1_5_na_na_na&as-pos=1&as-type=RECENT&suggestionId=redmi+mobile%7CMobiles&requestId=8c64f91a-3aa6-4275-8f26-2eb18df45fb6&as-backfill=on&page=1'"
   ]
  },
  {
   "cell_type": "markdown",
   "id": "85f8a251",
   "metadata": {},
   "source": [
    "# Get Request"
   ]
  },
  {
   "cell_type": "code",
   "execution_count": 4,
   "id": "c067f21f",
   "metadata": {},
   "outputs": [],
   "source": [
    "response=requests.get(website)"
   ]
  },
  {
   "cell_type": "markdown",
   "id": "9f2b038b",
   "metadata": {},
   "source": [
    "Status Code"
   ]
  },
  {
   "cell_type": "code",
   "execution_count": 5,
   "id": "573325df",
   "metadata": {},
   "outputs": [
    {
     "data": {
      "text/plain": [
       "200"
      ]
     },
     "execution_count": 5,
     "metadata": {},
     "output_type": "execute_result"
    }
   ],
   "source": [
    "response.status_code"
   ]
  },
  {
   "cell_type": "markdown",
   "id": "875fbfe0",
   "metadata": {},
   "source": [
    "# Soup Object"
   ]
  },
  {
   "cell_type": "code",
   "execution_count": 6,
   "id": "67d61dde",
   "metadata": {},
   "outputs": [],
   "source": [
    "soup=BeautifulSoup(response.content,'html.parser')"
   ]
  },
  {
   "cell_type": "code",
   "execution_count": null,
   "id": "d3dc38f7",
   "metadata": {},
   "outputs": [],
   "source": [
    "soup"
   ]
  },
  {
   "cell_type": "markdown",
   "id": "6857a16d",
   "metadata": {},
   "source": [
    "# Results"
   ]
  },
  {
   "cell_type": "code",
   "execution_count": 39,
   "id": "4a294368",
   "metadata": {},
   "outputs": [],
   "source": [
    "results=soup.find_all('div',{'class':'_2kHMtA'})"
   ]
  },
  {
   "cell_type": "code",
   "execution_count": 40,
   "id": "8831d815",
   "metadata": {},
   "outputs": [
    {
     "data": {
      "text/plain": [
       "24"
      ]
     },
     "execution_count": 40,
     "metadata": {},
     "output_type": "execute_result"
    }
   ],
   "source": [
    "len(results)"
   ]
  },
  {
   "cell_type": "code",
   "execution_count": 10,
   "id": "85eff136",
   "metadata": {
    "scrolled": true
   },
   "outputs": [
    {
     "data": {
      "text/plain": [
       "<div class=\"_1AtVbE col-12-12\"><div class=\"_1KOcBL\"><section class=\"JWMl0H _2hbLCH\"><div class=\"_2ssEMF\"><div class=\"_3V8rao\"><span>Filters</span></div></div></section><div class=\"_2q_g77\"><section class=\"_2aDURW\"><div class=\"_2lfNTw\"><span>CATEGORIES</span></div><div><div class=\"TB_InB\"><span><svg class=\"_2Iqv73\" height=\"10\" viewbox=\"0 0 16 27\" width=\"10\" xmlns=\"http://www.w3.org/2000/svg\"><path class=\"_3zK8He\" d=\"M16 23.207L6.11 13.161 16 3.093 12.955 0 0 13.161l12.955 13.161z\" fill=\"#fff\"></path></svg></span><a class=\"_2qvBBJ _2Mji8F\" href=\"/mobiles-accessories/pr?sid=tyy&amp;q=redmi+mobile&amp;otracker=categorytree\" title=\"Mobiles &amp; Accessories\">Mobiles &amp; Accessories</a></div></div><div><div class=\"TB_InB\"><span><svg class=\"_2Iqv73\" height=\"10\" viewbox=\"0 0 16 27\" width=\"10\" xmlns=\"http://www.w3.org/2000/svg\"><path class=\"\" d=\"M16 23.207L6.11 13.161 16 3.093 12.955 0 0 13.161l12.955 13.161z\" fill=\"#fff\"></path></svg></span><a class=\"_1jJQdf _2Mji8F\" href=\"/mobiles/pr?sid=tyy,4io&amp;q=redmi+mobile&amp;otracker=categorytree\" title=\"Mobiles\">Mobiles</a></div></div></section></div><section class=\"_2yz7eI _2hbLCH\"><div class=\"_3KxRU6 _2ssEMF\"><div class=\"UR1L2I _3V8rao\"><span>Price</span></div></div><div class=\"_2NBiOm\"><div class=\"_1nneZ0\"><div class=\"_2TbXIJ\" style=\"height:0;width:0\"></div><div class=\"_2TbXIJ\" style=\"height:0;width:0\"></div><div class=\"_2TbXIJ\" style=\"height:0;width:0\"></div><div class=\"_2TbXIJ\" style=\"height:0;width:0\"></div><div class=\"_2TbXIJ\" style=\"height:0;width:0\"></div><div class=\"_2TbXIJ\" style=\"height:0;width:0\"></div><div class=\"_2TbXIJ\" style=\"height:0;width:0\"></div><div class=\"_2TbXIJ\" style=\"height:0;width:0\"></div><div class=\"_2TbXIJ\" style=\"height:0;width:0\"></div><div class=\"_2TbXIJ\" style=\"height:0;width:0\"></div><div class=\"_2TbXIJ\" style=\"height:0;width:0\"></div></div></div><div class=\"_2r34SG\"><div class=\"_12FhcQ\"><div class=\"_31Kbhn _28DFQy\"><div class=\"_3FdLqY\"></div></div><div class=\"_31Kbhn WC_zGJ\"><div class=\"_3FdLqY\"></div></div><div class=\"_2IN3-t\"></div><div class=\"_2IN3-t _1mRwrD\"></div></div><div class=\"_15GU70\"><div class=\"_1ftpgI\" style=\"width:undefinedpx\">.</div><div class=\"_1ftpgI\" style=\"width:undefinedpx\">.</div><div class=\"_1ftpgI\" style=\"width:undefinedpx\">.</div><div class=\"_1ftpgI\" style=\"width:undefinedpx\">.</div><div class=\"_1ftpgI\" style=\"width:undefinedpx\">.</div><div class=\"_1ftpgI\" style=\"width:undefinedpx\">.</div><div class=\"_1ftpgI\" style=\"width:undefinedpx\">.</div><div class=\"_1ftpgI\" style=\"width:undefinedpx\">.</div><div class=\"_1ftpgI\" style=\"width:undefinedpx\">.</div><div class=\"_1ftpgI\" style=\"width:undefinedpx\">.</div><div class=\"_1ftpgI\" style=\"width:undefinedpx\">.</div><div class=\"_1ftpgI\" style=\"width:0px\">.</div></div></div><div class=\"_2b0bUo\"><div class=\"_1YAKP4\"><select class=\"_2YxCDZ\"><option class=\"_3AsjWR\" selected=\"\" value=\"Min\">Min</option><option class=\"_3AsjWR\" value=\"2000\">₹2000</option><option class=\"_3AsjWR\" value=\"4000\">₹4000</option><option class=\"_3AsjWR\" value=\"7000\">₹7000</option><option class=\"_3AsjWR\" value=\"10000\">₹10000</option><option class=\"_3AsjWR\" value=\"13000\">₹13000</option><option class=\"_3AsjWR\" value=\"16000\">₹16000</option><option class=\"_3AsjWR\" value=\"20000\">₹20000</option><option class=\"_3AsjWR\" value=\"25000\">₹25000</option><option class=\"_3AsjWR\" value=\"30000\">₹30000</option><option class=\"_3AsjWR\" value=\"50000\">₹50000</option></select></div><div class=\"_3zohzR\">to</div><div class=\"_3uDYxP\"><select class=\"_2YxCDZ\"><option class=\"_3AsjWR\" value=\"2000\">₹2000</option><option class=\"_3AsjWR\" value=\"4000\">₹4000</option><option class=\"_3AsjWR\" value=\"7000\">₹7000</option><option class=\"_3AsjWR\" value=\"10000\">₹10000</option><option class=\"_3AsjWR\" value=\"13000\">₹13000</option><option class=\"_3AsjWR\" value=\"16000\">₹16000</option><option class=\"_3AsjWR\" value=\"20000\">₹20000</option><option class=\"_3AsjWR\" value=\"25000\">₹25000</option><option class=\"_3AsjWR\" value=\"30000\">₹30000</option><option class=\"_3AsjWR\" value=\"50000\">₹50000</option><option class=\"_3AsjWR\" selected=\"\" value=\"Max\">₹50000+</option></select></div></div></section><section class=\"_167Mu3 _2hbLCH\"><div class=\"_213eRC _2ssEMF\"><div class=\"_2gmUFU _3V8rao\">Brand</div><svg class=\"ttx38n _3DyGEM\" height=\"27\" viewbox=\"0 0 16 27\" width=\"16\" xmlns=\"http://www.w3.org/2000/svg\"><path class=\"IIvmWM\" d=\"M16 23.207L6.11 13.161 16 3.093 12.955 0 0 13.161l12.955 13.161z\" fill=\"#fff\"></path></svg></div><div class=\"_3FPh42\"><div class=\"_2d0we9\"><div class=\"_4921Z t0pPfW\" title=\"Mi\"><div class=\"_1Y4Vhm _4FO7b6\"><label class=\"_2iDkf8 t0pPfW\"><input class=\"_30VH1S\" readonly=\"\" type=\"checkbox\"/><div class=\"_24_Dny\"></div><div class=\"_3879cV\">Mi</div></label></div></div><div class=\"_4921Z t0pPfW\" title=\"Micromax\"><div class=\"_1Y4Vhm _4FO7b6\"><label class=\"_2iDkf8 t0pPfW\"><input class=\"_30VH1S\" readonly=\"\" type=\"checkbox\"/><div class=\"_24_Dny\"></div><div class=\"_3879cV\">Micromax</div></label></div></div><div class=\"_4921Z t0pPfW\" title=\"iVoomi\"><div class=\"_1Y4Vhm _4FO7b6\"><label class=\"_2iDkf8 t0pPfW\"><input class=\"_30VH1S\" readonly=\"\" type=\"checkbox\"/><div class=\"_24_Dny\"></div><div class=\"_3879cV\">iVoomi</div></label></div></div><div class=\"_4921Z t0pPfW\" title=\"Peace\"><div class=\"_1Y4Vhm _4FO7b6\"><label class=\"_2iDkf8 t0pPfW\"><input class=\"_30VH1S\" readonly=\"\" type=\"checkbox\"/><div class=\"_24_Dny\"></div><div class=\"_3879cV\">Peace</div></label></div></div><div class=\"_4921Z t0pPfW\" title=\"SPICE\"><div class=\"_1Y4Vhm _4FO7b6\"><label class=\"_2iDkf8 t0pPfW\"><input class=\"_30VH1S\" readonly=\"\" type=\"checkbox\"/><div class=\"_24_Dny\"></div><div class=\"_3879cV\">SPICE</div></label></div></div><div class=\"_4921Z t0pPfW\" title=\"REDMI\"><div class=\"_1Y4Vhm _4FO7b6\"><label class=\"_2iDkf8 t0pPfW\"><input class=\"_30VH1S\" readonly=\"\" type=\"checkbox\"/><div class=\"_24_Dny\"></div><div class=\"_3879cV\">REDMI</div></label></div></div></div></div></section><section class=\"_167Mu3 _2hbLCH\"><div class=\"_213eRC _2ssEMF\"><div class=\"_2gmUFU _3V8rao\">Customer Ratings</div><svg class=\"ttx38n _3DyGEM\" height=\"27\" viewbox=\"0 0 16 27\" width=\"16\" xmlns=\"http://www.w3.org/2000/svg\"><path class=\"IIvmWM\" d=\"M16 23.207L6.11 13.161 16 3.093 12.955 0 0 13.161l12.955 13.161z\" fill=\"#fff\"></path></svg></div><div class=\"_3FPh42\"><div class=\"_2d0we9\"><div class=\"_4921Z t0pPfW\" title=\"4★ &amp; above\"><div class=\"_1Y4Vhm _4FO7b6\"><label class=\"_2iDkf8 t0pPfW\"><input class=\"_30VH1S\" readonly=\"\" type=\"checkbox\"/><div class=\"_24_Dny\"></div><div class=\"_3879cV\">4★ &amp; above</div></label></div></div><div class=\"_4921Z t0pPfW\" title=\"3★ &amp; above\"><div class=\"_1Y4Vhm _4FO7b6\"><label class=\"_2iDkf8 t0pPfW\"><input class=\"_30VH1S\" readonly=\"\" type=\"checkbox\"/><div class=\"_24_Dny\"></div><div class=\"_3879cV\">3★ &amp; above</div></label></div></div><div class=\"_4921Z t0pPfW\" title=\"2★ &amp; above\"><div class=\"_1Y4Vhm _4FO7b6\"><label class=\"_2iDkf8 t0pPfW\"><input class=\"_30VH1S\" readonly=\"\" type=\"checkbox\"/><div class=\"_24_Dny\"></div><div class=\"_3879cV\">2★ &amp; above</div></label></div></div><div class=\"_4921Z t0pPfW\" title=\"1★ &amp; above\"><div class=\"_1Y4Vhm _4FO7b6\"><label class=\"_2iDkf8 t0pPfW\"><input class=\"_30VH1S\" readonly=\"\" type=\"checkbox\"/><div class=\"_24_Dny\"></div><div class=\"_3879cV\">1★ &amp; above</div></label></div></div></div></div></section><section class=\"_2hbLCH _24gLJx\"><label class=\"_2iDkf8 shbqsL\"><input class=\"_30VH1S\" readonly=\"\" type=\"checkbox\"/><div class=\"_24_Dny _3tCU7L\"></div><div class=\"_3879cV\"><div class=\"_3U-Vxu\"><img class=\"_3U-Vxu\" height=\"21\" src=\"//static-assets-web.flixcart.com/www/linchpin/fk-cp-zion/img/fa_62673a.png\"/></div></div></label><div class=\"Bv11UC\"><span class=\"question\">?</span></div></section><section class=\"_167Mu3 _2hbLCH\"><div class=\"_213eRC _2ssEMF\"><div class=\"_2gmUFU _3V8rao\">GST Invoice Available</div><svg class=\"ttx38n\" height=\"27\" viewbox=\"0 0 16 27\" width=\"16\" xmlns=\"http://www.w3.org/2000/svg\"><path class=\"IIvmWM\" d=\"M16 23.207L6.11 13.161 16 3.093 12.955 0 0 13.161l12.955 13.161z\" fill=\"#fff\"></path></svg></div></section><section class=\"_167Mu3 _2hbLCH\"><div class=\"_213eRC _2ssEMF\"><div class=\"_2gmUFU _3V8rao\">RAM</div><svg class=\"ttx38n _3DyGEM\" height=\"27\" viewbox=\"0 0 16 27\" width=\"16\" xmlns=\"http://www.w3.org/2000/svg\"><path class=\"IIvmWM\" d=\"M16 23.207L6.11 13.161 16 3.093 12.955 0 0 13.161l12.955 13.161z\" fill=\"#fff\"></path></svg></div><div class=\"_3FPh42\"><div class=\"_2d0we9\"><div class=\"_4921Z t0pPfW\" title=\"4 GB\"><div class=\"_1Y4Vhm _4FO7b6\"><label class=\"_2iDkf8 t0pPfW\"><input class=\"_30VH1S\" readonly=\"\" type=\"checkbox\"/><div class=\"_24_Dny\"></div><div class=\"_3879cV\">4 GB</div></label></div></div><div class=\"_4921Z t0pPfW\" title=\"3 GB\"><div class=\"_1Y4Vhm _4FO7b6\"><label class=\"_2iDkf8 t0pPfW\"><input class=\"_30VH1S\" readonly=\"\" type=\"checkbox\"/><div class=\"_24_Dny\"></div><div class=\"_3879cV\">3 GB</div></label></div></div><div class=\"_4921Z t0pPfW\" title=\"2 GB\"><div class=\"_1Y4Vhm _4FO7b6\"><label class=\"_2iDkf8 t0pPfW\"><input class=\"_30VH1S\" readonly=\"\" type=\"checkbox\"/><div class=\"_24_Dny\"></div><div class=\"_3879cV\">2 GB</div></label></div></div><div class=\"_4921Z t0pPfW\" title=\"1 GB\"><div class=\"_1Y4Vhm _4FO7b6\"><label class=\"_2iDkf8 t0pPfW\"><input class=\"_30VH1S\" readonly=\"\" type=\"checkbox\"/><div class=\"_24_Dny\"></div><div class=\"_3879cV\">1 GB</div></label></div></div><div class=\"_4921Z t0pPfW\" title=\"512 MB - 1 GB\"><div class=\"_1Y4Vhm _4FO7b6\"><label class=\"_2iDkf8 t0pPfW\"><input class=\"_30VH1S\" readonly=\"\" type=\"checkbox\"/><div class=\"_24_Dny\"></div><div class=\"_3879cV\">512 MB - 1 GB</div></label></div></div><div class=\"_4921Z t0pPfW\" title=\"Less than 512 MB\"><div class=\"_1Y4Vhm _4FO7b6\"><label class=\"_2iDkf8 t0pPfW\"><input class=\"_30VH1S\" readonly=\"\" type=\"checkbox\"/><div class=\"_24_Dny\"></div><div class=\"_3879cV\">Less than 512 MB</div></label></div></div><div class=\"_4921Z t0pPfW\" title=\"6 GB  Above\"><div class=\"_1Y4Vhm _4FO7b6\"><label class=\"_2iDkf8 t0pPfW\"><input class=\"_30VH1S\" readonly=\"\" type=\"checkbox\"/><div class=\"_24_Dny\"></div><div class=\"_3879cV\">6 GB  Above</div></label></div></div></div></div></section><section class=\"_167Mu3 _2hbLCH\"><div class=\"_213eRC _2ssEMF\"><div class=\"_2gmUFU _3V8rao\">Internal Storage</div><svg class=\"ttx38n\" height=\"27\" viewbox=\"0 0 16 27\" width=\"16\" xmlns=\"http://www.w3.org/2000/svg\"><path class=\"IIvmWM\" d=\"M16 23.207L6.11 13.161 16 3.093 12.955 0 0 13.161l12.955 13.161z\" fill=\"#fff\"></path></svg></div></section><section class=\"_167Mu3 _2hbLCH\"><div class=\"_213eRC _2ssEMF\"><div class=\"_2gmUFU _3V8rao\">Battery Capacity</div><svg class=\"ttx38n\" height=\"27\" viewbox=\"0 0 16 27\" width=\"16\" xmlns=\"http://www.w3.org/2000/svg\"><path class=\"IIvmWM\" d=\"M16 23.207L6.11 13.161 16 3.093 12.955 0 0 13.161l12.955 13.161z\" fill=\"#fff\"></path></svg></div></section><section class=\"_167Mu3 _2hbLCH\"><div class=\"_213eRC _2ssEMF\"><div class=\"_2gmUFU _3V8rao\">Screen Size</div><svg class=\"ttx38n\" height=\"27\" viewbox=\"0 0 16 27\" width=\"16\" xmlns=\"http://www.w3.org/2000/svg\"><path class=\"IIvmWM\" d=\"M16 23.207L6.11 13.161 16 3.093 12.955 0 0 13.161l12.955 13.161z\" fill=\"#fff\"></path></svg></div></section><section class=\"_167Mu3 _2hbLCH\"><div class=\"_213eRC _2ssEMF\"><div class=\"_2gmUFU _3V8rao\">Primary Camera</div><svg class=\"ttx38n\" height=\"27\" viewbox=\"0 0 16 27\" width=\"16\" xmlns=\"http://www.w3.org/2000/svg\"><path class=\"IIvmWM\" d=\"M16 23.207L6.11 13.161 16 3.093 12.955 0 0 13.161l12.955 13.161z\" fill=\"#fff\"></path></svg></div></section><section class=\"_167Mu3 _2hbLCH\"><div class=\"_213eRC _2ssEMF\"><div class=\"_2gmUFU _3V8rao\">Secondary Camera</div><svg class=\"ttx38n\" height=\"27\" viewbox=\"0 0 16 27\" width=\"16\" xmlns=\"http://www.w3.org/2000/svg\"><path class=\"IIvmWM\" d=\"M16 23.207L6.11 13.161 16 3.093 12.955 0 0 13.161l12.955 13.161z\" fill=\"#fff\"></path></svg></div></section><section class=\"_167Mu3 _2hbLCH\"><div class=\"_213eRC _2ssEMF\"><div class=\"_2gmUFU _3V8rao\">Processor Brand</div><svg class=\"ttx38n\" height=\"27\" viewbox=\"0 0 16 27\" width=\"16\" xmlns=\"http://www.w3.org/2000/svg\"><path class=\"IIvmWM\" d=\"M16 23.207L6.11 13.161 16 3.093 12.955 0 0 13.161l12.955 13.161z\" fill=\"#fff\"></path></svg></div></section><section class=\"_167Mu3 _2hbLCH\"><div class=\"_213eRC _2ssEMF\"><div class=\"_2gmUFU _3V8rao\">Speciality</div><svg class=\"ttx38n\" height=\"27\" viewbox=\"0 0 16 27\" width=\"16\" xmlns=\"http://www.w3.org/2000/svg\"><path class=\"IIvmWM\" d=\"M16 23.207L6.11 13.161 16 3.093 12.955 0 0 13.161l12.955 13.161z\" fill=\"#fff\"></path></svg></div></section><section class=\"_167Mu3 _2hbLCH\"><div class=\"_213eRC _2ssEMF\"><div class=\"_2gmUFU _3V8rao\">Resolution Type</div><svg class=\"ttx38n\" height=\"27\" viewbox=\"0 0 16 27\" width=\"16\" xmlns=\"http://www.w3.org/2000/svg\"><path class=\"IIvmWM\" d=\"M16 23.207L6.11 13.161 16 3.093 12.955 0 0 13.161l12.955 13.161z\" fill=\"#fff\"></path></svg></div></section><section class=\"_167Mu3 _2hbLCH\"><div class=\"_213eRC _2ssEMF\"><div class=\"_2gmUFU _3V8rao\">Operating System</div><svg class=\"ttx38n\" height=\"27\" viewbox=\"0 0 16 27\" width=\"16\" xmlns=\"http://www.w3.org/2000/svg\"><path class=\"IIvmWM\" d=\"M16 23.207L6.11 13.161 16 3.093 12.955 0 0 13.161l12.955 13.161z\" fill=\"#fff\"></path></svg></div></section><section class=\"_167Mu3 _2hbLCH\"><div class=\"_213eRC _2ssEMF\"><div class=\"_2gmUFU _3V8rao\">Network Type</div><svg class=\"ttx38n\" height=\"27\" viewbox=\"0 0 16 27\" width=\"16\" xmlns=\"http://www.w3.org/2000/svg\"><path class=\"IIvmWM\" d=\"M16 23.207L6.11 13.161 16 3.093 12.955 0 0 13.161l12.955 13.161z\" fill=\"#fff\"></path></svg></div></section><section class=\"_167Mu3 _2hbLCH\"><div class=\"_213eRC _2ssEMF\"><div class=\"_2gmUFU _3V8rao\">Sim Type</div><svg class=\"ttx38n\" height=\"27\" viewbox=\"0 0 16 27\" width=\"16\" xmlns=\"http://www.w3.org/2000/svg\"><path class=\"IIvmWM\" d=\"M16 23.207L6.11 13.161 16 3.093 12.955 0 0 13.161l12.955 13.161z\" fill=\"#fff\"></path></svg></div></section><section class=\"_167Mu3 _2hbLCH\"><div class=\"_213eRC _2ssEMF\"><div class=\"_2gmUFU _3V8rao\">Offers</div><svg class=\"ttx38n _3DyGEM\" height=\"27\" viewbox=\"0 0 16 27\" width=\"16\" xmlns=\"http://www.w3.org/2000/svg\"><path class=\"IIvmWM\" d=\"M16 23.207L6.11 13.161 16 3.093 12.955 0 0 13.161l12.955 13.161z\" fill=\"#fff\"></path></svg></div><div class=\"_3FPh42\"><div class=\"_2d0we9\"><div class=\"_4921Z t0pPfW\" title=\"Buy More, Save More\"><div class=\"_1Y4Vhm _4FO7b6\"><label class=\"_2iDkf8 t0pPfW\"><input class=\"_30VH1S\" readonly=\"\" type=\"checkbox\"/><div class=\"_24_Dny\"></div><div class=\"_3879cV\">Buy More, Save More</div></label></div></div><div class=\"_4921Z t0pPfW\" title=\"Exchange Offer\"><div class=\"_1Y4Vhm _4FO7b6\"><label class=\"_2iDkf8 t0pPfW\"><input class=\"_30VH1S\" readonly=\"\" type=\"checkbox\"/><div class=\"_24_Dny\"></div><div class=\"_3879cV\">Exchange Offer</div></label></div></div><div class=\"_4921Z t0pPfW\" title=\"No Cost EMI\"><div class=\"_1Y4Vhm _4FO7b6\"><label class=\"_2iDkf8 t0pPfW\"><input class=\"_30VH1S\" readonly=\"\" type=\"checkbox\"/><div class=\"_24_Dny\"></div><div class=\"_3879cV\">No Cost EMI</div></label></div></div><div class=\"_4921Z t0pPfW\" title=\"Special Price\"><div class=\"_1Y4Vhm _4FO7b6\"><label class=\"_2iDkf8 t0pPfW\"><input class=\"_30VH1S\" readonly=\"\" type=\"checkbox\"/><div class=\"_24_Dny\"></div><div class=\"_3879cV\">Special Price</div></label></div></div></div></div></section><section class=\"_167Mu3 _2hbLCH\"><div class=\"_213eRC _2ssEMF\"><div class=\"_2gmUFU _3V8rao\">Budget</div><svg class=\"ttx38n\" height=\"27\" viewbox=\"0 0 16 27\" width=\"16\" xmlns=\"http://www.w3.org/2000/svg\"><path class=\"IIvmWM\" d=\"M16 23.207L6.11 13.161 16 3.093 12.955 0 0 13.161l12.955 13.161z\" fill=\"#fff\"></path></svg></div></section><section class=\"_167Mu3 _2hbLCH\"><div class=\"_213eRC _2ssEMF\"><div class=\"_2gmUFU _3V8rao\">Features</div><svg class=\"ttx38n\" height=\"27\" viewbox=\"0 0 16 27\" width=\"16\" xmlns=\"http://www.w3.org/2000/svg\"><path class=\"IIvmWM\" d=\"M16 23.207L6.11 13.161 16 3.093 12.955 0 0 13.161l12.955 13.161z\" fill=\"#fff\"></path></svg></div></section><section class=\"_167Mu3 _2hbLCH\"><div class=\"_213eRC _2ssEMF\"><div class=\"_2gmUFU _3V8rao\">Type</div><svg class=\"ttx38n\" height=\"27\" viewbox=\"0 0 16 27\" width=\"16\" xmlns=\"http://www.w3.org/2000/svg\"><path class=\"IIvmWM\" d=\"M16 23.207L6.11 13.161 16 3.093 12.955 0 0 13.161l12.955 13.161z\" fill=\"#fff\"></path></svg></div></section><section class=\"_167Mu3 _2hbLCH\"><div class=\"_213eRC _2ssEMF\"><div class=\"_2gmUFU _3V8rao\">Number of Cores</div><svg class=\"ttx38n\" height=\"27\" viewbox=\"0 0 16 27\" width=\"16\" xmlns=\"http://www.w3.org/2000/svg\"><path class=\"IIvmWM\" d=\"M16 23.207L6.11 13.161 16 3.093 12.955 0 0 13.161l12.955 13.161z\" fill=\"#fff\"></path></svg></div></section><section class=\"_167Mu3 _2hbLCH\"><div class=\"_213eRC _2ssEMF\"><div class=\"_2gmUFU _3V8rao\">Availability</div><svg class=\"ttx38n\" height=\"27\" viewbox=\"0 0 16 27\" width=\"16\" xmlns=\"http://www.w3.org/2000/svg\"><path class=\"IIvmWM\" d=\"M16 23.207L6.11 13.161 16 3.093 12.955 0 0 13.161l12.955 13.161z\" fill=\"#fff\"></path></svg></div></section><section class=\"_167Mu3 _2hbLCH\"><div class=\"_213eRC _2ssEMF\"><div class=\"_2gmUFU _3V8rao\">Discount</div><svg class=\"ttx38n _3DyGEM\" height=\"27\" viewbox=\"0 0 16 27\" width=\"16\" xmlns=\"http://www.w3.org/2000/svg\"><path class=\"IIvmWM\" d=\"M16 23.207L6.11 13.161 16 3.093 12.955 0 0 13.161l12.955 13.161z\" fill=\"#fff\"></path></svg></div><div class=\"_3FPh42\"><div class=\"_2d0we9\"><div class=\"_4921Z t0pPfW\" title=\"10% or more\"><div class=\"_1Y4Vhm _4FO7b6\"><label class=\"_2iDkf8 t0pPfW\"><input class=\"_30VH1S\" readonly=\"\" type=\"checkbox\"/><div class=\"_24_Dny\"></div><div class=\"_3879cV\">10% or more</div></label></div></div><div class=\"_4921Z t0pPfW\" title=\"20% or more\"><div class=\"_1Y4Vhm _4FO7b6\"><label class=\"_2iDkf8 t0pPfW\"><input class=\"_30VH1S\" readonly=\"\" type=\"checkbox\"/><div class=\"_24_Dny\"></div><div class=\"_3879cV\">20% or more</div></label></div></div><div class=\"_4921Z t0pPfW\" title=\"30% or more\"><div class=\"_1Y4Vhm _4FO7b6\"><label class=\"_2iDkf8 t0pPfW\"><input class=\"_30VH1S\" readonly=\"\" type=\"checkbox\"/><div class=\"_24_Dny\"></div><div class=\"_3879cV\">30% or more</div></label></div></div><div class=\"_4921Z t0pPfW\" title=\"40% or more\"><div class=\"_1Y4Vhm _4FO7b6\"><label class=\"_2iDkf8 t0pPfW\"><input class=\"_30VH1S\" readonly=\"\" type=\"checkbox\"/><div class=\"_24_Dny\"></div><div class=\"_3879cV\">40% or more</div></label></div></div><div class=\"_4921Z t0pPfW\" title=\"10% and below\"><div class=\"_1Y4Vhm _4FO7b6\"><label class=\"_2iDkf8 t0pPfW\"><input class=\"_30VH1S\" readonly=\"\" type=\"checkbox\"/><div class=\"_24_Dny\"></div><div class=\"_3879cV\">10% and below</div></label></div></div></div></div></section><section class=\"_167Mu3 _2hbLCH\"><div class=\"_213eRC _2ssEMF\"><div class=\"_2gmUFU _3V8rao\">Operating System Version Name</div><svg class=\"ttx38n\" height=\"27\" viewbox=\"0 0 16 27\" width=\"16\" xmlns=\"http://www.w3.org/2000/svg\"><path class=\"IIvmWM\" d=\"M16 23.207L6.11 13.161 16 3.093 12.955 0 0 13.161l12.955 13.161z\" fill=\"#fff\"></path></svg></div></section><section class=\"_167Mu3 _2hbLCH\"><div class=\"_213eRC _2ssEMF\"><div class=\"_2gmUFU _3V8rao\">Clock Speed</div><svg class=\"ttx38n\" height=\"27\" viewbox=\"0 0 16 27\" width=\"16\" xmlns=\"http://www.w3.org/2000/svg\"><path class=\"IIvmWM\" d=\"M16 23.207L6.11 13.161 16 3.093 12.955 0 0 13.161l12.955 13.161z\" fill=\"#fff\"></path></svg></div></section></div></div>"
      ]
     },
     "execution_count": 10,
     "metadata": {},
     "output_type": "execute_result"
    }
   ],
   "source": [
    "results[0]"
   ]
  },
  {
   "cell_type": "markdown",
   "id": "e2a505aa",
   "metadata": {},
   "source": [
    "# Necessary Data"
   ]
  },
  {
   "cell_type": "code",
   "execution_count": 11,
   "id": "0b6d3a2c",
   "metadata": {},
   "outputs": [],
   "source": [
    "#Name\n",
    "#Price\n",
    "#Rating \n",
    "#Review\n",
    "#Product Link\n",
    "#Product Details"
   ]
  },
  {
   "cell_type": "markdown",
   "id": "5fce1b5d",
   "metadata": {},
   "source": [
    "# Name"
   ]
  },
  {
   "cell_type": "code",
   "execution_count": 67,
   "id": "f7b8a52b",
   "metadata": {},
   "outputs": [
    {
     "data": {
      "text/plain": [
       "'REDMI 9i Sport (Coral Green, 64 GB)'"
      ]
     },
     "execution_count": 67,
     "metadata": {},
     "output_type": "execute_result"
    }
   ],
   "source": [
    "results[0].find('div',{'class':'_4rR01T'}).get_text()"
   ]
  },
  {
   "cell_type": "markdown",
   "id": "8a4d8125",
   "metadata": {},
   "source": [
    "# Price"
   ]
  },
  {
   "cell_type": "code",
   "execution_count": 24,
   "id": "d4447035",
   "metadata": {},
   "outputs": [
    {
     "data": {
      "text/plain": [
       "'₹8,799'"
      ]
     },
     "execution_count": 24,
     "metadata": {},
     "output_type": "execute_result"
    }
   ],
   "source": [
    "results[0].find('div',{'class':'_30jeq3 _1_WHN1'}).get_text()"
   ]
  },
  {
   "cell_type": "markdown",
   "id": "b7a16faf",
   "metadata": {},
   "source": [
    "# Rating"
   ]
  },
  {
   "cell_type": "code",
   "execution_count": 25,
   "id": "72f97355",
   "metadata": {},
   "outputs": [
    {
     "data": {
      "text/plain": [
       "'4.4'"
      ]
     },
     "execution_count": 25,
     "metadata": {},
     "output_type": "execute_result"
    }
   ],
   "source": [
    "results[0].find('div',{'class':'_3LWZlK'}).get_text()"
   ]
  },
  {
   "cell_type": "markdown",
   "id": "1891a008",
   "metadata": {},
   "source": [
    "# Rating and Review Counts"
   ]
  },
  {
   "cell_type": "code",
   "execution_count": 30,
   "id": "4aff9431",
   "metadata": {},
   "outputs": [
    {
     "data": {
      "text/plain": [
       "'75,037 Ratings|3,981 Reviews'"
      ]
     },
     "execution_count": 30,
     "metadata": {},
     "output_type": "execute_result"
    }
   ],
   "source": [
    "results[0].find('span',{'class':'_2_R_DZ'}).get_text().replace('\\xa0&\\xa0','|')"
   ]
  },
  {
   "cell_type": "markdown",
   "id": "2bfc6c9a",
   "metadata": {},
   "source": [
    "# Relative URL"
   ]
  },
  {
   "cell_type": "code",
   "execution_count": 44,
   "id": "a740c066",
   "metadata": {},
   "outputs": [],
   "source": [
    "relative_url=results[0].find('a',{'class':'_1fQZEK'}).get('href')"
   ]
  },
  {
   "cell_type": "code",
   "execution_count": 57,
   "id": "3f8bbc4d",
   "metadata": {},
   "outputs": [],
   "source": [
    "root_url='https://www.flipkart.com'"
   ]
  },
  {
   "cell_type": "code",
   "execution_count": 58,
   "id": "d1a4474d",
   "metadata": {},
   "outputs": [],
   "source": [
    "url_combine=root_url+relative_url"
   ]
  },
  {
   "cell_type": "code",
   "execution_count": 59,
   "id": "60a2a9a4",
   "metadata": {},
   "outputs": [
    {
     "data": {
      "text/plain": [
       "'https://www.flipkart.com/redmi-9i-sport-coral-green-64-gb/p/itmb5e8d8186b602?pid=MOBG6WQWJRFZ5WDG&lid=LSTMOBG6WQWJRFZ5WDGEZXWFI&marketplace=FLIPKART&q=redmi+mobile&store=tyy%2F4io&srno=s_1_1&otracker=AS_QueryStore_OrganicAutoSuggest_1_5_na_na_na&otracker1=AS_QueryStore_OrganicAutoSuggest_1_5_na_na_na&fm=organic&iid=c7e66fc8-3f98-4d1a-aa51-bf33607ecd2c.MOBG6WQWJRFZ5WDG.SEARCH&ppt=None&ppn=None&ssid=g6ggulxnls0000001647173143268&qH=32cc053b9c6a5ba2'"
      ]
     },
     "execution_count": 59,
     "metadata": {},
     "output_type": "execute_result"
    }
   ],
   "source": [
    "url_combine"
   ]
  },
  {
   "cell_type": "markdown",
   "id": "4371e893",
   "metadata": {},
   "source": [
    "# Product Details"
   ]
  },
  {
   "cell_type": "code",
   "execution_count": 63,
   "id": "a5c4dd90",
   "metadata": {},
   "outputs": [
    {
     "data": {
      "text/plain": [
       "'4 GB RAM | 64 GB ROM | Expandable Upto 512 GB16.59 cm (6.53 inch) HD+ Display13MP Rear Camera | 5MP Front Camera5000 mAh Li-Polymer BatteryMediaTek Helio G25 ProcessorBrand Warranty of 1 Year Available for Mobile and 6 Months for Accessories'"
      ]
     },
     "execution_count": 63,
     "metadata": {},
     "output_type": "execute_result"
    }
   ],
   "source": [
    "results[0].find('ul',{'class':'_1xgFaf'}).get_text()"
   ]
  },
  {
   "cell_type": "markdown",
   "id": "0045d177",
   "metadata": {},
   "source": [
    "# Put Everything Together inside for a loop"
   ]
  },
  {
   "cell_type": "code",
   "execution_count": 83,
   "id": "02db2cda",
   "metadata": {},
   "outputs": [],
   "source": [
    "product_name=[]\n",
    "product_price=[]\n",
    "rating=[]\n",
    "rating_review_count=[]\n",
    "relative_url=[]\n",
    "product_details=[]\n",
    "\n",
    "\n",
    "\n",
    "\n",
    "for result in results:\n",
    "    try:\n",
    "        product_name.append(result.find('div',{'class':'_4rR01T'}).get_text())\n",
    "    except:\n",
    "        product.name.append('n/a')\n",
    "        \n",
    "    #price\n",
    "    try:\n",
    "        product_price.append(result.find('div',{'class':'_30jeq3 _1_WHN1'}).get_text())\n",
    "    except:\n",
    "        product.price.append('n/a')\n",
    "        \n",
    "    #Rating\n",
    "    try:\n",
    "        rating.append(result.find('div',{'class':'_3LWZlK'}).get_text())\n",
    "    except:\n",
    "        rating.append('n/a')\n",
    "        \n",
    "    #Rating and Review Count\n",
    "    try:\n",
    "        rating_review_count.append(result.find('span',{'class':'_2_R_DZ'}).get_text().replace('\\xa0&\\xa0','|'))\n",
    "    except:\n",
    "        rating_review_count.append('n/a')\n",
    "        \n",
    "    #Relative Url\n",
    "    try:\n",
    "        relative_url.append(result.find('a',{'class':'_1fQZEK'}).get('href'))\n",
    "    except:\n",
    "        relative_url.append('n/a')\n",
    "        \n",
    "    #Product Details\n",
    "    try:\n",
    "        product_details.append(result.find('ul',{'class':'_1xgFaf'}).get_text())\n",
    "    except:\n",
    "        product_details.append('n/a')\n",
    "        \n",
    "        \n",
    "        "
   ]
  },
  {
   "cell_type": "code",
   "execution_count": 85,
   "id": "73434dfe",
   "metadata": {
    "scrolled": true
   },
   "outputs": [
    {
     "data": {
      "text/plain": [
       "['REDMI 9i Sport (Coral Green, 64 GB)',\n",
       " 'REDMI 9i Sport (Carbon Black, 64 GB)',\n",
       " 'REDMI Note 10S (Frost White, 128 GB)',\n",
       " 'REDMI Note 10S (Deep Sea Blue, 64 GB)',\n",
       " 'REDMI Note 10 Pro (Dark Night, 128 GB)',\n",
       " 'REDMI 9 Activ (Metallic Purple, 64 GB)',\n",
       " 'REDMI Note 10S (Cosmic Purple, 128 GB)',\n",
       " 'REDMI 9 Activ (Carbon Black, 64 GB)',\n",
       " 'REDMI 9 Activ (Carbon Black, 128 GB)',\n",
       " 'REDMI 9 Activ (Coral Green, 64 GB)',\n",
       " 'REDMI 9i (Sea Blue, 64 GB)',\n",
       " 'REDMI Note 10S (Deep Sea Blue, 128 GB)',\n",
       " 'REDMI Note 10S (Shadow Black, 64 GB)',\n",
       " 'REDMI Note 10S (Shadow Black, 128 GB)',\n",
       " 'REDMI Note 10T 5G (Graphite Black, 64 GB)',\n",
       " 'REDMI Note 10T 5G (Chromium White, 64 GB)',\n",
       " 'REDMI 10 Prime (Astral White, 64 GB)',\n",
       " 'REDMI Note 10 Pro (Dark Nebula, 128 GB)',\n",
       " 'REDMI Note 10 Pro (Glacial Blue, 128 GB)',\n",
       " 'REDMI 9 Power (Fiery Red, 64 GB)',\n",
       " 'REDMI Note 10T 5G (Mint Green, 64 GB)',\n",
       " 'REDMI Note 10T 5G (Graphite Black, 128 GB)',\n",
       " 'REDMI Note 10S (Frost White, 64 GB)',\n",
       " 'REDMI 9 Power (Blazing Blue, 64 GB)']"
      ]
     },
     "execution_count": 85,
     "metadata": {},
     "output_type": "execute_result"
    }
   ],
   "source": [
    "product_name"
   ]
  },
  {
   "cell_type": "code",
   "execution_count": 77,
   "id": "7378cb8d",
   "metadata": {
    "scrolled": true
   },
   "outputs": [
    {
     "data": {
      "text/plain": [
       "['₹8,799',\n",
       " '₹8,799',\n",
       " '₹15,999',\n",
       " '₹15,999',\n",
       " '₹17,499',\n",
       " '₹10,450',\n",
       " '₹17,499',\n",
       " '₹10,990',\n",
       " '₹12,289',\n",
       " '₹10,100',\n",
       " '₹8,999',\n",
       " '₹17,499',\n",
       " '₹16,499',\n",
       " '₹18,989',\n",
       " '₹13,980',\n",
       " '₹13,999',\n",
       " '₹13,439',\n",
       " '₹17,813',\n",
       " '₹17,640',\n",
       " '₹13,699',\n",
       " '₹13,990',\n",
       " '₹15,999',\n",
       " '₹15,040',\n",
       " '₹13,699']"
      ]
     },
     "execution_count": 77,
     "metadata": {},
     "output_type": "execute_result"
    }
   ],
   "source": [
    "product_price"
   ]
  },
  {
   "cell_type": "code",
   "execution_count": 79,
   "id": "eba09518",
   "metadata": {
    "scrolled": true
   },
   "outputs": [
    {
     "data": {
      "text/plain": [
       "['4.4',\n",
       " '4.4',\n",
       " '4.2',\n",
       " '4.2',\n",
       " '4.3',\n",
       " '4.2',\n",
       " '4.2',\n",
       " '4.2',\n",
       " '4.2',\n",
       " '4.2',\n",
       " '4.3',\n",
       " '4.2',\n",
       " '4.2',\n",
       " '4.2',\n",
       " '4.2',\n",
       " '4.2',\n",
       " '4.2',\n",
       " '4.3',\n",
       " '4.3',\n",
       " '4.3',\n",
       " '4.2',\n",
       " '4.2',\n",
       " '4.2',\n",
       " '4.3']"
      ]
     },
     "execution_count": 79,
     "metadata": {},
     "output_type": "execute_result"
    }
   ],
   "source": [
    "rating"
   ]
  },
  {
   "cell_type": "code",
   "execution_count": 80,
   "id": "9049e805",
   "metadata": {
    "scrolled": true
   },
   "outputs": [
    {
     "data": {
      "text/plain": [
       "['75,037 Ratings|3,981 Reviews',\n",
       " '75,037 Ratings|3,981 Reviews',\n",
       " '12,453 Ratings|955 Reviews',\n",
       " '12,453 Ratings|955 Reviews',\n",
       " '4,345 Ratings|363 Reviews',\n",
       " '1,737 Ratings|118 Reviews',\n",
       " '2,316 Ratings|209 Reviews',\n",
       " '1,737 Ratings|118 Reviews',\n",
       " '1,172 Ratings|80 Reviews',\n",
       " '1,737 Ratings|118 Reviews',\n",
       " '5,53,694 Ratings|33,022 Reviews',\n",
       " '2,316 Ratings|209 Reviews',\n",
       " '12,453 Ratings|955 Reviews',\n",
       " '2,316 Ratings|209 Reviews',\n",
       " '1,308 Ratings|93 Reviews',\n",
       " '1,308 Ratings|93 Reviews',\n",
       " '3,766 Ratings|281 Reviews',\n",
       " '4,345 Ratings|363 Reviews',\n",
       " '4,345 Ratings|363 Reviews',\n",
       " '2,33,299 Ratings|16,686 Reviews',\n",
       " '1,308 Ratings|93 Reviews',\n",
       " '830 Ratings|57 Reviews',\n",
       " '12,453 Ratings|955 Reviews',\n",
       " '2,33,299 Ratings|16,686 Reviews']"
      ]
     },
     "execution_count": 80,
     "metadata": {},
     "output_type": "execute_result"
    }
   ],
   "source": [
    "rating_review_count"
   ]
  },
  {
   "cell_type": "code",
   "execution_count": 81,
   "id": "eea4ee0b",
   "metadata": {
    "scrolled": true
   },
   "outputs": [
    {
     "data": {
      "text/plain": [
       "['/redmi-9i-sport-coral-green-64-gb/p/itmb5e8d8186b602?pid=MOBG6WQWJRFZ5WDG&lid=LSTMOBG6WQWJRFZ5WDGEZXWFI&marketplace=FLIPKART&q=redmi+mobile&store=tyy%2F4io&srno=s_1_1&otracker=AS_QueryStore_OrganicAutoSuggest_1_5_na_na_na&otracker1=AS_QueryStore_OrganicAutoSuggest_1_5_na_na_na&fm=organic&iid=c7e66fc8-3f98-4d1a-aa51-bf33607ecd2c.MOBG6WQWJRFZ5WDG.SEARCH&ppt=None&ppn=None&ssid=g6ggulxnls0000001647173143268&qH=32cc053b9c6a5ba2',\n",
       " '/redmi-9i-sport-carbon-black-64-gb/p/itm17ed463dc779a?pid=MOBG6WQWRGRRDBH6&lid=LSTMOBG6WQWRGRRDBH6DJKEOT&marketplace=FLIPKART&q=redmi+mobile&store=tyy%2F4io&srno=s_1_2&otracker=AS_QueryStore_OrganicAutoSuggest_1_5_na_na_na&otracker1=AS_QueryStore_OrganicAutoSuggest_1_5_na_na_na&fm=organic&iid=c7e66fc8-3f98-4d1a-aa51-bf33607ecd2c.MOBG6WQWRGRRDBH6.SEARCH&ppt=None&ppn=None&ssid=g6ggulxnls0000001647173143268&qH=32cc053b9c6a5ba2',\n",
       " '/redmi-note-10s-frost-white-128-gb/p/itm6deb3a0e5ac94?pid=MOBGAHD8T67FDQGU&lid=LSTMOBGAHD8T67FDQGUACQZNN&marketplace=FLIPKART&q=redmi+mobile&store=tyy%2F4io&srno=s_1_3&otracker=AS_QueryStore_OrganicAutoSuggest_1_5_na_na_na&otracker1=AS_QueryStore_OrganicAutoSuggest_1_5_na_na_na&fm=organic&iid=c7e66fc8-3f98-4d1a-aa51-bf33607ecd2c.MOBGAHD8T67FDQGU.SEARCH&ppt=None&ppn=None&ssid=g6ggulxnls0000001647173143268&qH=32cc053b9c6a5ba2',\n",
       " '/redmi-note-10s-deep-sea-blue-64-gb/p/itmdd3b943d713b8?pid=MOBGAHD8GWKMFWFG&lid=LSTMOBGAHD8GWKMFWFGFJNNTI&marketplace=FLIPKART&q=redmi+mobile&store=tyy%2F4io&srno=s_1_4&otracker=AS_QueryStore_OrganicAutoSuggest_1_5_na_na_na&otracker1=AS_QueryStore_OrganicAutoSuggest_1_5_na_na_na&fm=organic&iid=c7e66fc8-3f98-4d1a-aa51-bf33607ecd2c.MOBGAHD8GWKMFWFG.SEARCH&ppt=None&ppn=None&ssid=g6ggulxnls0000001647173143268&qH=32cc053b9c6a5ba2',\n",
       " '/redmi-note-10-pro-dark-night-128-gb/p/itm0479a8f8adde1?pid=MOBGB725PZQVNSUH&lid=LSTMOBGB725PZQVNSUHEA1OVQ&marketplace=FLIPKART&q=redmi+mobile&store=tyy%2F4io&srno=s_1_5&otracker=AS_QueryStore_OrganicAutoSuggest_1_5_na_na_na&otracker1=AS_QueryStore_OrganicAutoSuggest_1_5_na_na_na&fm=organic&iid=c7e66fc8-3f98-4d1a-aa51-bf33607ecd2c.MOBGB725PZQVNSUH.SEARCH&ppt=None&ppn=None&ssid=g6ggulxnls0000001647173143268&qH=32cc053b9c6a5ba2',\n",
       " '/redmi-9-activ-metallic-purple-64-gb/p/itm329ae4068c8e8?pid=MOBG7F5HVHHNVXGK&lid=LSTMOBG7F5HVHHNVXGKYJWOMC&marketplace=FLIPKART&q=redmi+mobile&store=tyy%2F4io&srno=s_1_6&otracker=AS_QueryStore_OrganicAutoSuggest_1_5_na_na_na&otracker1=AS_QueryStore_OrganicAutoSuggest_1_5_na_na_na&fm=organic&iid=c7e66fc8-3f98-4d1a-aa51-bf33607ecd2c.MOBG7F5HVHHNVXGK.SEARCH&ppt=None&ppn=None&ssid=g6ggulxnls0000001647173143268&qH=32cc053b9c6a5ba2',\n",
       " '/redmi-note-10s-cosmic-purple-128-gb/p/itm26bd45de63b25?pid=MOBGAHD8GEG8ZGCS&lid=LSTMOBGAHD8GEG8ZGCSYZKFBQ&marketplace=FLIPKART&q=redmi+mobile&store=tyy%2F4io&srno=s_1_7&otracker=AS_QueryStore_OrganicAutoSuggest_1_5_na_na_na&otracker1=AS_QueryStore_OrganicAutoSuggest_1_5_na_na_na&fm=organic&iid=c7e66fc8-3f98-4d1a-aa51-bf33607ecd2c.MOBGAHD8GEG8ZGCS.SEARCH&ppt=None&ppn=None&ssid=g6ggulxnls0000001647173143268&qH=32cc053b9c6a5ba2',\n",
       " '/redmi-9-activ-carbon-black-64-gb/p/itm329ae4068c8e8?pid=MOBG78A4FDDGCXGX&lid=LSTMOBG78A4FDDGCXGXPPMU6Q&marketplace=FLIPKART&q=redmi+mobile&store=tyy%2F4io&srno=s_1_8&otracker=AS_QueryStore_OrganicAutoSuggest_1_5_na_na_na&otracker1=AS_QueryStore_OrganicAutoSuggest_1_5_na_na_na&fm=organic&iid=c7e66fc8-3f98-4d1a-aa51-bf33607ecd2c.MOBG78A4FDDGCXGX.SEARCH&ppt=None&ppn=None&ssid=g6ggulxnls0000001647173143268&qH=32cc053b9c6a5ba2',\n",
       " '/redmi-9-activ-carbon-black-128-gb/p/itm329ae4068c8e8?pid=MOBG7FNGXYZDS6YY&lid=LSTMOBG7FNGXYZDS6YYYN8B7X&marketplace=FLIPKART&q=redmi+mobile&store=tyy%2F4io&srno=s_1_9&otracker=AS_QueryStore_OrganicAutoSuggest_1_5_na_na_na&otracker1=AS_QueryStore_OrganicAutoSuggest_1_5_na_na_na&fm=organic&iid=c7e66fc8-3f98-4d1a-aa51-bf33607ecd2c.MOBG7FNGXYZDS6YY.SEARCH&ppt=None&ppn=None&ssid=g6ggulxnls0000001647173143268&qH=32cc053b9c6a5ba2',\n",
       " '/redmi-9-activ-coral-green-64-gb/p/itm329ae4068c8e8?pid=MOBG7FNG6HBQCPGY&lid=LSTMOBG7FNG6HBQCPGYROWPJP&marketplace=FLIPKART&q=redmi+mobile&store=tyy%2F4io&srno=s_1_10&otracker=AS_QueryStore_OrganicAutoSuggest_1_5_na_na_na&otracker1=AS_QueryStore_OrganicAutoSuggest_1_5_na_na_na&fm=organic&iid=c7e66fc8-3f98-4d1a-aa51-bf33607ecd2c.MOBG7FNG6HBQCPGY.SEARCH&ppt=None&ppn=None&ssid=g6ggulxnls0000001647173143268&qH=32cc053b9c6a5ba2',\n",
       " '/redmi-9i-sea-blue-64-gb/p/itm1c59f8befb365?pid=MOBFV8RYTHGA8BY9&lid=LSTMOBFV8RYTHGA8BY9SJ1RJ7&marketplace=FLIPKART&q=redmi+mobile&store=tyy%2F4io&srno=s_1_11&otracker=AS_QueryStore_OrganicAutoSuggest_1_5_na_na_na&otracker1=AS_QueryStore_OrganicAutoSuggest_1_5_na_na_na&fm=organic&iid=c7e66fc8-3f98-4d1a-aa51-bf33607ecd2c.MOBFV8RYTHGA8BY9.SEARCH&ppt=None&ppn=None&ssid=g6ggulxnls0000001647173143268&qH=32cc053b9c6a5ba2',\n",
       " '/redmi-note-10s-deep-sea-blue-128-gb/p/itmfd6a1085ba900?pid=MOBGAHD8WRFBYD57&lid=LSTMOBGAHD8WRFBYD57DZVF98&marketplace=FLIPKART&q=redmi+mobile&store=tyy%2F4io&srno=s_1_12&otracker=AS_QueryStore_OrganicAutoSuggest_1_5_na_na_na&otracker1=AS_QueryStore_OrganicAutoSuggest_1_5_na_na_na&fm=organic&iid=c7e66fc8-3f98-4d1a-aa51-bf33607ecd2c.MOBGAHD8WRFBYD57.SEARCH&ppt=None&ppn=None&ssid=g6ggulxnls0000001647173143268&qH=32cc053b9c6a5ba2',\n",
       " '/redmi-note-10s-shadow-black-64-gb/p/itmf77ca8e5edabf?pid=MOBGAHD8HKGFRKGF&lid=LSTMOBGAHD8HKGFRKGFHNQJZ3&marketplace=FLIPKART&q=redmi+mobile&store=tyy%2F4io&srno=s_1_13&otracker=AS_QueryStore_OrganicAutoSuggest_1_5_na_na_na&otracker1=AS_QueryStore_OrganicAutoSuggest_1_5_na_na_na&fm=organic&iid=c7e66fc8-3f98-4d1a-aa51-bf33607ecd2c.MOBGAHD8HKGFRKGF.SEARCH&ppt=None&ppn=None&ssid=g6ggulxnls0000001647173143268&qH=32cc053b9c6a5ba2',\n",
       " '/redmi-note-10s-shadow-black-128-gb/p/itmf34b955692456?pid=MOBG3YW3PETPXDZS&lid=LSTMOBG3YW3PETPXDZSC87CGR&marketplace=FLIPKART&q=redmi+mobile&store=tyy%2F4io&srno=s_1_14&otracker=AS_QueryStore_OrganicAutoSuggest_1_5_na_na_na&otracker1=AS_QueryStore_OrganicAutoSuggest_1_5_na_na_na&fm=organic&iid=c7e66fc8-3f98-4d1a-aa51-bf33607ecd2c.MOBG3YW3PETPXDZS.SEARCH&ppt=None&ppn=None&ssid=g6ggulxnls0000001647173143268&qH=32cc053b9c6a5ba2',\n",
       " '/redmi-note-10t-5g-graphite-black-64-gb/p/itm0e4acec2951f6?pid=MOBG5GQZGURZ5ASU&lid=LSTMOBG5GQZGURZ5ASUBM8JKS&marketplace=FLIPKART&q=redmi+mobile&store=tyy%2F4io&srno=s_1_15&otracker=AS_QueryStore_OrganicAutoSuggest_1_5_na_na_na&otracker1=AS_QueryStore_OrganicAutoSuggest_1_5_na_na_na&fm=organic&iid=c7e66fc8-3f98-4d1a-aa51-bf33607ecd2c.MOBG5GQZGURZ5ASU.SEARCH&ppt=None&ppn=None&ssid=g6ggulxnls0000001647173143268&qH=32cc053b9c6a5ba2',\n",
       " '/redmi-note-10t-5g-chromium-white-64-gb/p/itm6fcb4fcb76fb4?pid=MOBGC7QFEXHCY6NH&lid=LSTMOBGC7QFEXHCY6NHMP7RMC&marketplace=FLIPKART&q=redmi+mobile&store=tyy%2F4io&srno=s_1_16&otracker=AS_QueryStore_OrganicAutoSuggest_1_5_na_na_na&otracker1=AS_QueryStore_OrganicAutoSuggest_1_5_na_na_na&fm=organic&iid=c7e66fc8-3f98-4d1a-aa51-bf33607ecd2c.MOBGC7QFEXHCY6NH.SEARCH&ppt=None&ppn=None&ssid=g6ggulxnls0000001647173143268&qH=32cc053b9c6a5ba2',\n",
       " '/redmi-10-prime-astral-white-64-gb/p/itm9377b4c936baa?pid=MOBG6PFKNMNNKZVS&lid=LSTMOBG6PFKNMNNKZVSJPL971&marketplace=FLIPKART&q=redmi+mobile&store=tyy%2F4io&srno=s_1_17&otracker=AS_QueryStore_OrganicAutoSuggest_1_5_na_na_na&otracker1=AS_QueryStore_OrganicAutoSuggest_1_5_na_na_na&fm=organic&iid=c7e66fc8-3f98-4d1a-aa51-bf33607ecd2c.MOBG6PFKNMNNKZVS.SEARCH&ppt=None&ppn=None&ssid=g6ggulxnls0000001647173143268&qH=32cc053b9c6a5ba2',\n",
       " '/redmi-note-10-pro-dark-nebula-128-gb/p/itm04ba1f0aed358?pid=MOBG6WQVYUNFWRGG&lid=LSTMOBG6WQVYUNFWRGGXU0KXR&marketplace=FLIPKART&q=redmi+mobile&store=tyy%2F4io&srno=s_1_18&otracker=AS_QueryStore_OrganicAutoSuggest_1_5_na_na_na&otracker1=AS_QueryStore_OrganicAutoSuggest_1_5_na_na_na&fm=organic&iid=c7e66fc8-3f98-4d1a-aa51-bf33607ecd2c.MOBG6WQVYUNFWRGG.SEARCH&ppt=None&ppn=None&ssid=g6ggulxnls0000001647173143268&qH=32cc053b9c6a5ba2',\n",
       " '/redmi-note-10-pro-glacial-blue-128-gb/p/itm04ba1f0aed358?pid=MOBGFDFXENXBBE4S&lid=LSTMOBGFDFXENXBBE4SDE2OQV&marketplace=FLIPKART&q=redmi+mobile&store=tyy%2F4io&srno=s_1_19&otracker=AS_QueryStore_OrganicAutoSuggest_1_5_na_na_na&otracker1=AS_QueryStore_OrganicAutoSuggest_1_5_na_na_na&fm=organic&iid=c7e66fc8-3f98-4d1a-aa51-bf33607ecd2c.MOBGFDFXENXBBE4S.SEARCH&ppt=None&ppn=None&ssid=g6ggulxnls0000001647173143268&qH=32cc053b9c6a5ba2',\n",
       " '/redmi-9-power-fiery-red-64-gb/p/itmcd78b9bc04aa9?pid=MOBFYZF8XVSHPK5M&lid=LSTMOBFYZF8XVSHPK5MESH0CW&marketplace=FLIPKART&q=redmi+mobile&store=tyy%2F4io&srno=s_1_20&otracker=AS_QueryStore_OrganicAutoSuggest_1_5_na_na_na&otracker1=AS_QueryStore_OrganicAutoSuggest_1_5_na_na_na&fm=organic&iid=c7e66fc8-3f98-4d1a-aa51-bf33607ecd2c.MOBFYZF8XVSHPK5M.SEARCH&ppt=None&ppn=None&ssid=g6ggulxnls0000001647173143268&qH=32cc053b9c6a5ba2',\n",
       " '/redmi-note-10t-5g-mint-green-64-gb/p/itm0e4acec2951f6?pid=MOBG5GQZDHNXGCHX&lid=LSTMOBG5GQZDHNXGCHXN9F3AN&marketplace=FLIPKART&q=redmi+mobile&store=tyy%2F4io&srno=s_1_21&otracker=AS_QueryStore_OrganicAutoSuggest_1_5_na_na_na&otracker1=AS_QueryStore_OrganicAutoSuggest_1_5_na_na_na&fm=organic&iid=c7e66fc8-3f98-4d1a-aa51-bf33607ecd2c.MOBG5GQZDHNXGCHX.SEARCH&ppt=None&ppn=None&ssid=g6ggulxnls0000001647173143268&qH=32cc053b9c6a5ba2',\n",
       " '/redmi-note-10t-5g-graphite-black-128-gb/p/itm2473a60f98194?pid=MOBGC7QFR6XRTYRF&lid=LSTMOBGC7QFR6XRTYRFAVVJIP&marketplace=FLIPKART&q=redmi+mobile&store=tyy%2F4io&srno=s_1_22&otracker=AS_QueryStore_OrganicAutoSuggest_1_5_na_na_na&otracker1=AS_QueryStore_OrganicAutoSuggest_1_5_na_na_na&fm=organic&iid=c7e66fc8-3f98-4d1a-aa51-bf33607ecd2c.MOBGC7QFR6XRTYRF.SEARCH&ppt=None&ppn=None&ssid=g6ggulxnls0000001647173143268&qH=32cc053b9c6a5ba2',\n",
       " '/redmi-note-10s-frost-white-64-gb/p/itmf77ca8e5edabf?pid=MOBG3YW3R9FHSHZH&lid=LSTMOBG3YW3R9FHSHZHHDRDTM&marketplace=FLIPKART&q=redmi+mobile&store=tyy%2F4io&srno=s_1_23&otracker=AS_QueryStore_OrganicAutoSuggest_1_5_na_na_na&otracker1=AS_QueryStore_OrganicAutoSuggest_1_5_na_na_na&fm=organic&iid=c7e66fc8-3f98-4d1a-aa51-bf33607ecd2c.MOBG3YW3R9FHSHZH.SEARCH&ppt=None&ppn=None&ssid=g6ggulxnls0000001647173143268&qH=32cc053b9c6a5ba2',\n",
       " '/redmi-9-power-blazing-blue-64-gb/p/itm9533b02ba34ef?pid=MOBFYZ7HHGJUATYD&lid=LSTMOBFYZ7HHGJUATYDCSEHVM&marketplace=FLIPKART&q=redmi+mobile&store=tyy%2F4io&srno=s_1_24&otracker=AS_QueryStore_OrganicAutoSuggest_1_5_na_na_na&otracker1=AS_QueryStore_OrganicAutoSuggest_1_5_na_na_na&fm=organic&iid=c7e66fc8-3f98-4d1a-aa51-bf33607ecd2c.MOBFYZ7HHGJUATYD.SEARCH&ppt=None&ppn=None&ssid=g6ggulxnls0000001647173143268&qH=32cc053b9c6a5ba2']"
      ]
     },
     "execution_count": 81,
     "metadata": {},
     "output_type": "execute_result"
    }
   ],
   "source": [
    "relative_url"
   ]
  },
  {
   "cell_type": "code",
   "execution_count": 84,
   "id": "e38b83c3",
   "metadata": {
    "scrolled": true
   },
   "outputs": [
    {
     "data": {
      "text/plain": [
       "['4 GB RAM | 64 GB ROM | Expandable Upto 512 GB16.59 cm (6.53 inch) HD+ Display13MP Rear Camera | 5MP Front Camera5000 mAh Li-Polymer BatteryMediaTek Helio G25 ProcessorBrand Warranty of 1 Year Available for Mobile and 6 Months for Accessories',\n",
       " '4 GB RAM | 64 GB ROM | Expandable Upto 512 GB16.59 cm (6.53 inch) HD+ Display13MP Rear Camera | 5MP Front Camera5000 mAh Li-Polymer BatteryMediaTek Helio G25 ProcessorBrand Warranty of 1 Year Available for Mobile and 6 Months for Accessories',\n",
       " '6 GB RAM | 128 GB ROM | Expandable Upto 512 GB16.33 cm (6.43 inch) Full HD+ Display64MP + 8MP + 2MP + 2MP | 13MP Front Camera5000 mAh Lithium-Ploymer BatteryMediatek Helio G95 Processor1 Year Manufacturer Warranty for Phone and 6 Months Warranty for In the Box Accessories',\n",
       " '6 GB RAM | 64 GB ROM | Expandable Upto 512 GB16.33 cm (6.43 inch) Full HD+ Display64MP + 8MP + 2MP + 2MP | 13MP Front Camera5000 mAh Lithium-Ploymer BatteryMediatek Helio G95 Processor1 Year Manufacturer Warranty for Phone and 6 Months Warranty for In the Box Accessories',\n",
       " '6 GB RAM | 128 GB ROM | Expandable Upto 512 GB16.94 cm (6.67 inch) Full HD+ Display64MP + 8MP + 5MP + 2MP | 16MP Front Camera5020 mAh Li-Polymer BatteryQualcomm Snapdragon 732G Processor1 Year Manufacturer Warranty for Phone and 6 Months Warranty for In the Box Accessories',\n",
       " '4 GB RAM | 64 GB ROM16.51 cm (6.5 inch) Display13MP Rear Camera5000 mAh BatteryBrand Warranty of 1 Year Available for Mobile and 6 Months for Accessories',\n",
       " '8 GB RAM | 128 GB ROM | Expandable Upto 512 GB16.33 cm (6.43 inch) Full HD+ Display64MP + 8MP + 2MP + 2MP | 13MP Front Camera5000 mAh Lithium-Ploymer BatteryMediatek Helio G95 Processor1 Year Manufacturer Warranty for Phone and 6 Months Warranty for In the Box Accessories',\n",
       " '4 GB RAM | 64 GB ROM | Expandable Upto 512 GB16.59 cm (6.53 inch) HD+ Display13MP + 2MP | 5MP Front Camera5000 mAh BatteryMediaTek Helio G35 ProcessorBrand Warranty of 1 Year Available for Mobile and 6 Months for Accessories',\n",
       " '6 GB RAM | 128 GB ROM16.51 cm (6.5 inch) Display13MP Rear Camera5000 mAh BatteryBrand Warranty of 1 Year Available for Mobile and 6 Months for Accessories',\n",
       " '4 GB RAM | 64 GB ROM16.51 cm (6.5 inch) Display13MP Rear Camera5000 mAh BatteryBrand Warranty of 1 Year Available for Mobile and 6 Months for Accessories',\n",
       " '4 GB RAM | 64 GB ROM | Expandable Upto 512 GB16.59 cm (6.53 inch) HD+ Display13MP Rear Camera | 5MP Front Camera5000 mAh Lithium Polymer BatteryMediaTek Helio G25 ProcessorBrand Warranty of 1 Year Available for Mobile and 6 Months for Accessories',\n",
       " '8 GB RAM | 128 GB ROM | Expandable Upto 512 GB16.33 cm (6.43 inch) Full HD+ Display64MP + 8MP + 2MP + 2MP | 13MP Front Camera5000 mAh Lithium-Ploymer BatteryMediatek Helio G95 Processor1 Year Manufacturer Warranty for Phone and 6 Months Warranty for In the Box Accessories',\n",
       " '6 GB RAM | 64 GB ROM | Expandable Upto 512 GB16.33 cm (6.43 inch) Full HD+ Display64MP + 8MP + 2MP + 2MP | 13MP Front Camera5000 mAh Lithium-Ploymer BatteryMediatek Helio G95 Processor1 Year Manufacturer Warranty for Phone and 6 Months Warranty for In the Box Accessories',\n",
       " '8 GB RAM | 128 GB ROM16.33 cm (6.43 inch) Full HD+ Display64MP + 8MP + 2MP + 2MP | 13MP Front Camera5000 mAh BatteryMediaTek Helio G95 Processor1 Year Manufacturer Warranty for Device and 6 Months Manufacturer Warranty for In-box Accessories',\n",
       " '4 GB RAM | 64 GB ROM16.51 cm (6.5 inch) Full HD+ Display48MP + 2MP + 2MP | 8MP Front Camera5000 mAh BatteryMediaTek Dimensity 700 Processor1 Year Manufacturer Warranty for Device and 6 Months Manufacturer Warranty for In-box Accessories',\n",
       " '4 GB RAM | 64 GB ROM16.66 cm (6.56 inch) Full HD+ Display48MP Primary Camera + 2MP Macro Lens + 2MP Depth Sensor | 8MP Front Camera5000 mAh Lithium Polymer BatteryMediatek Dimensity 700 ProcessorMax GPU Frequency: 950 MHz, Supports GAME Turbo 3.0, UFS2.2 Storage, Reading Mode 3.0, 360 Degree Ambient Light Sensors, Supports 18W Fast Charging1 Year Manufacturer Warranty for Phone and 6 Months Warranty for In the Box Accessories',\n",
       " '4 GB RAM | 64 GB ROM | Expandable Upto 512 GB16.51 cm (6.5 inch) Full HD Display50MP + 8MP + 2MP + 2MP | 8MP Front Camera6000 mAh BatteryHelio G88 Processor1 Year Manufacturer Warranty for Handset and 6 Months Warranty for In the Box Accessories',\n",
       " '6 GB RAM | 128 GB ROM16.89 cm (6.65 inch) Display64MP Rear Camera5020 mAh Battery1 Year Manufacturer Warranty',\n",
       " '6 GB RAM | 128 GB ROM16.94 cm (6.67 inch) Display64MP Rear Camera5020 mAh Battery1 year manufacturer warranty for device and 6 months manufacturer warranty for in-box accessories including batteries from the date of purchase',\n",
       " '4 GB RAM | 64 GB ROM16.59 cm (6.53 inch) Full HD+ Display48MP + 8MP + 2MP + 2MP | 8MP Front Camera6000 mAh BatteryQualcomm Snapdragon 662 Processor1 year manufacturer warranty for device and 6 months manufacturer warranty for in-box accessories including batteries from the date of purchase',\n",
       " '4 GB RAM | 64 GB ROM16.51 cm (6.5 inch) Full HD+ Display48MP + 2MP + 2MP | 8MP Front Camera5000 mAh BatteryMediaTek Dimensity 700 Processor1 Year Manufacturer Warranty for Device and 6 Months Manufacturer Warranty for In-box Accessories',\n",
       " '6 GB RAM | 128 GB ROM16.66 cm (6.56 inch) Full HD+ Display48MP Primary Camera + 2MP Macro Lens + 2MP Depth Sensor | 8MP Front Camera5000 mAh Lithium Polymer BatteryMediatek Dimensity 700 ProcessorMax GPU Frequency: 950 MHz, Supports GAME Turbo 3.0, UFS2.2 Storage, Reading Mode 3.0, 360 Degree Ambient Light Sensors, Supports 18W Fast Charging1 Year Manufacturer Warranty for Phone and 6 Months Warranty for In the Box Accessories',\n",
       " '6 GB RAM | 64 GB ROM16.33 cm (6.43 inch) Full HD+ Display64MP + 8MP + 2MP + 2MP | 13MP Front Camera5000 mAh BatteryMediaTek Helio G95 Processor1 Year Manufacturer Warranty for Device and 6 Months Manufacturer Warranty for In-box Accessories',\n",
       " '4 GB RAM | 64 GB ROM16.59 cm (6.53 inch) Full HD+ Display48MP + 8MP + 2MP + 2MP | 8MP Front Camera6000 mAh BatteryQualcomm Snapdragon 662 Processor1 year manufacturer warranty for device and 6 months manufacturer warranty for in-box accessories including batteries from the date of purchase']"
      ]
     },
     "execution_count": 84,
     "metadata": {},
     "output_type": "execute_result"
    }
   ],
   "source": [
    "product_details"
   ]
  },
  {
   "cell_type": "markdown",
   "id": "444e4df6",
   "metadata": {},
   "source": [
    "# Combine URL's"
   ]
  },
  {
   "cell_type": "code",
   "execution_count": 88,
   "id": "ad422af2",
   "metadata": {},
   "outputs": [],
   "source": [
    "url_combined=[]\n",
    "\n",
    "for link in relative_url:\n",
    "    url_combined.append(urllib.parse.urljoin(root_url,link))\n",
    "    "
   ]
  },
  {
   "cell_type": "code",
   "execution_count": 89,
   "id": "b46d87d4",
   "metadata": {
    "scrolled": true
   },
   "outputs": [
    {
     "data": {
      "text/plain": [
       "['https://www.flipkart.com/redmi-9i-sport-coral-green-64-gb/p/itmb5e8d8186b602?pid=MOBG6WQWJRFZ5WDG&lid=LSTMOBG6WQWJRFZ5WDGEZXWFI&marketplace=FLIPKART&q=redmi+mobile&store=tyy%2F4io&srno=s_1_1&otracker=AS_QueryStore_OrganicAutoSuggest_1_5_na_na_na&otracker1=AS_QueryStore_OrganicAutoSuggest_1_5_na_na_na&fm=organic&iid=c7e66fc8-3f98-4d1a-aa51-bf33607ecd2c.MOBG6WQWJRFZ5WDG.SEARCH&ppt=None&ppn=None&ssid=g6ggulxnls0000001647173143268&qH=32cc053b9c6a5ba2',\n",
       " 'https://www.flipkart.com/redmi-9i-sport-carbon-black-64-gb/p/itm17ed463dc779a?pid=MOBG6WQWRGRRDBH6&lid=LSTMOBG6WQWRGRRDBH6DJKEOT&marketplace=FLIPKART&q=redmi+mobile&store=tyy%2F4io&srno=s_1_2&otracker=AS_QueryStore_OrganicAutoSuggest_1_5_na_na_na&otracker1=AS_QueryStore_OrganicAutoSuggest_1_5_na_na_na&fm=organic&iid=c7e66fc8-3f98-4d1a-aa51-bf33607ecd2c.MOBG6WQWRGRRDBH6.SEARCH&ppt=None&ppn=None&ssid=g6ggulxnls0000001647173143268&qH=32cc053b9c6a5ba2',\n",
       " 'https://www.flipkart.com/redmi-note-10s-frost-white-128-gb/p/itm6deb3a0e5ac94?pid=MOBGAHD8T67FDQGU&lid=LSTMOBGAHD8T67FDQGUACQZNN&marketplace=FLIPKART&q=redmi+mobile&store=tyy%2F4io&srno=s_1_3&otracker=AS_QueryStore_OrganicAutoSuggest_1_5_na_na_na&otracker1=AS_QueryStore_OrganicAutoSuggest_1_5_na_na_na&fm=organic&iid=c7e66fc8-3f98-4d1a-aa51-bf33607ecd2c.MOBGAHD8T67FDQGU.SEARCH&ppt=None&ppn=None&ssid=g6ggulxnls0000001647173143268&qH=32cc053b9c6a5ba2',\n",
       " 'https://www.flipkart.com/redmi-note-10s-deep-sea-blue-64-gb/p/itmdd3b943d713b8?pid=MOBGAHD8GWKMFWFG&lid=LSTMOBGAHD8GWKMFWFGFJNNTI&marketplace=FLIPKART&q=redmi+mobile&store=tyy%2F4io&srno=s_1_4&otracker=AS_QueryStore_OrganicAutoSuggest_1_5_na_na_na&otracker1=AS_QueryStore_OrganicAutoSuggest_1_5_na_na_na&fm=organic&iid=c7e66fc8-3f98-4d1a-aa51-bf33607ecd2c.MOBGAHD8GWKMFWFG.SEARCH&ppt=None&ppn=None&ssid=g6ggulxnls0000001647173143268&qH=32cc053b9c6a5ba2',\n",
       " 'https://www.flipkart.com/redmi-note-10-pro-dark-night-128-gb/p/itm0479a8f8adde1?pid=MOBGB725PZQVNSUH&lid=LSTMOBGB725PZQVNSUHEA1OVQ&marketplace=FLIPKART&q=redmi+mobile&store=tyy%2F4io&srno=s_1_5&otracker=AS_QueryStore_OrganicAutoSuggest_1_5_na_na_na&otracker1=AS_QueryStore_OrganicAutoSuggest_1_5_na_na_na&fm=organic&iid=c7e66fc8-3f98-4d1a-aa51-bf33607ecd2c.MOBGB725PZQVNSUH.SEARCH&ppt=None&ppn=None&ssid=g6ggulxnls0000001647173143268&qH=32cc053b9c6a5ba2',\n",
       " 'https://www.flipkart.com/redmi-9-activ-metallic-purple-64-gb/p/itm329ae4068c8e8?pid=MOBG7F5HVHHNVXGK&lid=LSTMOBG7F5HVHHNVXGKYJWOMC&marketplace=FLIPKART&q=redmi+mobile&store=tyy%2F4io&srno=s_1_6&otracker=AS_QueryStore_OrganicAutoSuggest_1_5_na_na_na&otracker1=AS_QueryStore_OrganicAutoSuggest_1_5_na_na_na&fm=organic&iid=c7e66fc8-3f98-4d1a-aa51-bf33607ecd2c.MOBG7F5HVHHNVXGK.SEARCH&ppt=None&ppn=None&ssid=g6ggulxnls0000001647173143268&qH=32cc053b9c6a5ba2',\n",
       " 'https://www.flipkart.com/redmi-note-10s-cosmic-purple-128-gb/p/itm26bd45de63b25?pid=MOBGAHD8GEG8ZGCS&lid=LSTMOBGAHD8GEG8ZGCSYZKFBQ&marketplace=FLIPKART&q=redmi+mobile&store=tyy%2F4io&srno=s_1_7&otracker=AS_QueryStore_OrganicAutoSuggest_1_5_na_na_na&otracker1=AS_QueryStore_OrganicAutoSuggest_1_5_na_na_na&fm=organic&iid=c7e66fc8-3f98-4d1a-aa51-bf33607ecd2c.MOBGAHD8GEG8ZGCS.SEARCH&ppt=None&ppn=None&ssid=g6ggulxnls0000001647173143268&qH=32cc053b9c6a5ba2',\n",
       " 'https://www.flipkart.com/redmi-9-activ-carbon-black-64-gb/p/itm329ae4068c8e8?pid=MOBG78A4FDDGCXGX&lid=LSTMOBG78A4FDDGCXGXPPMU6Q&marketplace=FLIPKART&q=redmi+mobile&store=tyy%2F4io&srno=s_1_8&otracker=AS_QueryStore_OrganicAutoSuggest_1_5_na_na_na&otracker1=AS_QueryStore_OrganicAutoSuggest_1_5_na_na_na&fm=organic&iid=c7e66fc8-3f98-4d1a-aa51-bf33607ecd2c.MOBG78A4FDDGCXGX.SEARCH&ppt=None&ppn=None&ssid=g6ggulxnls0000001647173143268&qH=32cc053b9c6a5ba2',\n",
       " 'https://www.flipkart.com/redmi-9-activ-carbon-black-128-gb/p/itm329ae4068c8e8?pid=MOBG7FNGXYZDS6YY&lid=LSTMOBG7FNGXYZDS6YYYN8B7X&marketplace=FLIPKART&q=redmi+mobile&store=tyy%2F4io&srno=s_1_9&otracker=AS_QueryStore_OrganicAutoSuggest_1_5_na_na_na&otracker1=AS_QueryStore_OrganicAutoSuggest_1_5_na_na_na&fm=organic&iid=c7e66fc8-3f98-4d1a-aa51-bf33607ecd2c.MOBG7FNGXYZDS6YY.SEARCH&ppt=None&ppn=None&ssid=g6ggulxnls0000001647173143268&qH=32cc053b9c6a5ba2',\n",
       " 'https://www.flipkart.com/redmi-9-activ-coral-green-64-gb/p/itm329ae4068c8e8?pid=MOBG7FNG6HBQCPGY&lid=LSTMOBG7FNG6HBQCPGYROWPJP&marketplace=FLIPKART&q=redmi+mobile&store=tyy%2F4io&srno=s_1_10&otracker=AS_QueryStore_OrganicAutoSuggest_1_5_na_na_na&otracker1=AS_QueryStore_OrganicAutoSuggest_1_5_na_na_na&fm=organic&iid=c7e66fc8-3f98-4d1a-aa51-bf33607ecd2c.MOBG7FNG6HBQCPGY.SEARCH&ppt=None&ppn=None&ssid=g6ggulxnls0000001647173143268&qH=32cc053b9c6a5ba2',\n",
       " 'https://www.flipkart.com/redmi-9i-sea-blue-64-gb/p/itm1c59f8befb365?pid=MOBFV8RYTHGA8BY9&lid=LSTMOBFV8RYTHGA8BY9SJ1RJ7&marketplace=FLIPKART&q=redmi+mobile&store=tyy%2F4io&srno=s_1_11&otracker=AS_QueryStore_OrganicAutoSuggest_1_5_na_na_na&otracker1=AS_QueryStore_OrganicAutoSuggest_1_5_na_na_na&fm=organic&iid=c7e66fc8-3f98-4d1a-aa51-bf33607ecd2c.MOBFV8RYTHGA8BY9.SEARCH&ppt=None&ppn=None&ssid=g6ggulxnls0000001647173143268&qH=32cc053b9c6a5ba2',\n",
       " 'https://www.flipkart.com/redmi-note-10s-deep-sea-blue-128-gb/p/itmfd6a1085ba900?pid=MOBGAHD8WRFBYD57&lid=LSTMOBGAHD8WRFBYD57DZVF98&marketplace=FLIPKART&q=redmi+mobile&store=tyy%2F4io&srno=s_1_12&otracker=AS_QueryStore_OrganicAutoSuggest_1_5_na_na_na&otracker1=AS_QueryStore_OrganicAutoSuggest_1_5_na_na_na&fm=organic&iid=c7e66fc8-3f98-4d1a-aa51-bf33607ecd2c.MOBGAHD8WRFBYD57.SEARCH&ppt=None&ppn=None&ssid=g6ggulxnls0000001647173143268&qH=32cc053b9c6a5ba2',\n",
       " 'https://www.flipkart.com/redmi-note-10s-shadow-black-64-gb/p/itmf77ca8e5edabf?pid=MOBGAHD8HKGFRKGF&lid=LSTMOBGAHD8HKGFRKGFHNQJZ3&marketplace=FLIPKART&q=redmi+mobile&store=tyy%2F4io&srno=s_1_13&otracker=AS_QueryStore_OrganicAutoSuggest_1_5_na_na_na&otracker1=AS_QueryStore_OrganicAutoSuggest_1_5_na_na_na&fm=organic&iid=c7e66fc8-3f98-4d1a-aa51-bf33607ecd2c.MOBGAHD8HKGFRKGF.SEARCH&ppt=None&ppn=None&ssid=g6ggulxnls0000001647173143268&qH=32cc053b9c6a5ba2',\n",
       " 'https://www.flipkart.com/redmi-note-10s-shadow-black-128-gb/p/itmf34b955692456?pid=MOBG3YW3PETPXDZS&lid=LSTMOBG3YW3PETPXDZSC87CGR&marketplace=FLIPKART&q=redmi+mobile&store=tyy%2F4io&srno=s_1_14&otracker=AS_QueryStore_OrganicAutoSuggest_1_5_na_na_na&otracker1=AS_QueryStore_OrganicAutoSuggest_1_5_na_na_na&fm=organic&iid=c7e66fc8-3f98-4d1a-aa51-bf33607ecd2c.MOBG3YW3PETPXDZS.SEARCH&ppt=None&ppn=None&ssid=g6ggulxnls0000001647173143268&qH=32cc053b9c6a5ba2',\n",
       " 'https://www.flipkart.com/redmi-note-10t-5g-graphite-black-64-gb/p/itm0e4acec2951f6?pid=MOBG5GQZGURZ5ASU&lid=LSTMOBG5GQZGURZ5ASUBM8JKS&marketplace=FLIPKART&q=redmi+mobile&store=tyy%2F4io&srno=s_1_15&otracker=AS_QueryStore_OrganicAutoSuggest_1_5_na_na_na&otracker1=AS_QueryStore_OrganicAutoSuggest_1_5_na_na_na&fm=organic&iid=c7e66fc8-3f98-4d1a-aa51-bf33607ecd2c.MOBG5GQZGURZ5ASU.SEARCH&ppt=None&ppn=None&ssid=g6ggulxnls0000001647173143268&qH=32cc053b9c6a5ba2',\n",
       " 'https://www.flipkart.com/redmi-note-10t-5g-chromium-white-64-gb/p/itm6fcb4fcb76fb4?pid=MOBGC7QFEXHCY6NH&lid=LSTMOBGC7QFEXHCY6NHMP7RMC&marketplace=FLIPKART&q=redmi+mobile&store=tyy%2F4io&srno=s_1_16&otracker=AS_QueryStore_OrganicAutoSuggest_1_5_na_na_na&otracker1=AS_QueryStore_OrganicAutoSuggest_1_5_na_na_na&fm=organic&iid=c7e66fc8-3f98-4d1a-aa51-bf33607ecd2c.MOBGC7QFEXHCY6NH.SEARCH&ppt=None&ppn=None&ssid=g6ggulxnls0000001647173143268&qH=32cc053b9c6a5ba2',\n",
       " 'https://www.flipkart.com/redmi-10-prime-astral-white-64-gb/p/itm9377b4c936baa?pid=MOBG6PFKNMNNKZVS&lid=LSTMOBG6PFKNMNNKZVSJPL971&marketplace=FLIPKART&q=redmi+mobile&store=tyy%2F4io&srno=s_1_17&otracker=AS_QueryStore_OrganicAutoSuggest_1_5_na_na_na&otracker1=AS_QueryStore_OrganicAutoSuggest_1_5_na_na_na&fm=organic&iid=c7e66fc8-3f98-4d1a-aa51-bf33607ecd2c.MOBG6PFKNMNNKZVS.SEARCH&ppt=None&ppn=None&ssid=g6ggulxnls0000001647173143268&qH=32cc053b9c6a5ba2',\n",
       " 'https://www.flipkart.com/redmi-note-10-pro-dark-nebula-128-gb/p/itm04ba1f0aed358?pid=MOBG6WQVYUNFWRGG&lid=LSTMOBG6WQVYUNFWRGGXU0KXR&marketplace=FLIPKART&q=redmi+mobile&store=tyy%2F4io&srno=s_1_18&otracker=AS_QueryStore_OrganicAutoSuggest_1_5_na_na_na&otracker1=AS_QueryStore_OrganicAutoSuggest_1_5_na_na_na&fm=organic&iid=c7e66fc8-3f98-4d1a-aa51-bf33607ecd2c.MOBG6WQVYUNFWRGG.SEARCH&ppt=None&ppn=None&ssid=g6ggulxnls0000001647173143268&qH=32cc053b9c6a5ba2',\n",
       " 'https://www.flipkart.com/redmi-note-10-pro-glacial-blue-128-gb/p/itm04ba1f0aed358?pid=MOBGFDFXENXBBE4S&lid=LSTMOBGFDFXENXBBE4SDE2OQV&marketplace=FLIPKART&q=redmi+mobile&store=tyy%2F4io&srno=s_1_19&otracker=AS_QueryStore_OrganicAutoSuggest_1_5_na_na_na&otracker1=AS_QueryStore_OrganicAutoSuggest_1_5_na_na_na&fm=organic&iid=c7e66fc8-3f98-4d1a-aa51-bf33607ecd2c.MOBGFDFXENXBBE4S.SEARCH&ppt=None&ppn=None&ssid=g6ggulxnls0000001647173143268&qH=32cc053b9c6a5ba2',\n",
       " 'https://www.flipkart.com/redmi-9-power-fiery-red-64-gb/p/itmcd78b9bc04aa9?pid=MOBFYZF8XVSHPK5M&lid=LSTMOBFYZF8XVSHPK5MESH0CW&marketplace=FLIPKART&q=redmi+mobile&store=tyy%2F4io&srno=s_1_20&otracker=AS_QueryStore_OrganicAutoSuggest_1_5_na_na_na&otracker1=AS_QueryStore_OrganicAutoSuggest_1_5_na_na_na&fm=organic&iid=c7e66fc8-3f98-4d1a-aa51-bf33607ecd2c.MOBFYZF8XVSHPK5M.SEARCH&ppt=None&ppn=None&ssid=g6ggulxnls0000001647173143268&qH=32cc053b9c6a5ba2',\n",
       " 'https://www.flipkart.com/redmi-note-10t-5g-mint-green-64-gb/p/itm0e4acec2951f6?pid=MOBG5GQZDHNXGCHX&lid=LSTMOBG5GQZDHNXGCHXN9F3AN&marketplace=FLIPKART&q=redmi+mobile&store=tyy%2F4io&srno=s_1_21&otracker=AS_QueryStore_OrganicAutoSuggest_1_5_na_na_na&otracker1=AS_QueryStore_OrganicAutoSuggest_1_5_na_na_na&fm=organic&iid=c7e66fc8-3f98-4d1a-aa51-bf33607ecd2c.MOBG5GQZDHNXGCHX.SEARCH&ppt=None&ppn=None&ssid=g6ggulxnls0000001647173143268&qH=32cc053b9c6a5ba2',\n",
       " 'https://www.flipkart.com/redmi-note-10t-5g-graphite-black-128-gb/p/itm2473a60f98194?pid=MOBGC7QFR6XRTYRF&lid=LSTMOBGC7QFR6XRTYRFAVVJIP&marketplace=FLIPKART&q=redmi+mobile&store=tyy%2F4io&srno=s_1_22&otracker=AS_QueryStore_OrganicAutoSuggest_1_5_na_na_na&otracker1=AS_QueryStore_OrganicAutoSuggest_1_5_na_na_na&fm=organic&iid=c7e66fc8-3f98-4d1a-aa51-bf33607ecd2c.MOBGC7QFR6XRTYRF.SEARCH&ppt=None&ppn=None&ssid=g6ggulxnls0000001647173143268&qH=32cc053b9c6a5ba2',\n",
       " 'https://www.flipkart.com/redmi-note-10s-frost-white-64-gb/p/itmf77ca8e5edabf?pid=MOBG3YW3R9FHSHZH&lid=LSTMOBG3YW3R9FHSHZHHDRDTM&marketplace=FLIPKART&q=redmi+mobile&store=tyy%2F4io&srno=s_1_23&otracker=AS_QueryStore_OrganicAutoSuggest_1_5_na_na_na&otracker1=AS_QueryStore_OrganicAutoSuggest_1_5_na_na_na&fm=organic&iid=c7e66fc8-3f98-4d1a-aa51-bf33607ecd2c.MOBG3YW3R9FHSHZH.SEARCH&ppt=None&ppn=None&ssid=g6ggulxnls0000001647173143268&qH=32cc053b9c6a5ba2',\n",
       " 'https://www.flipkart.com/redmi-9-power-blazing-blue-64-gb/p/itm9533b02ba34ef?pid=MOBFYZ7HHGJUATYD&lid=LSTMOBFYZ7HHGJUATYDCSEHVM&marketplace=FLIPKART&q=redmi+mobile&store=tyy%2F4io&srno=s_1_24&otracker=AS_QueryStore_OrganicAutoSuggest_1_5_na_na_na&otracker1=AS_QueryStore_OrganicAutoSuggest_1_5_na_na_na&fm=organic&iid=c7e66fc8-3f98-4d1a-aa51-bf33607ecd2c.MOBFYZ7HHGJUATYD.SEARCH&ppt=None&ppn=None&ssid=g6ggulxnls0000001647173143268&qH=32cc053b9c6a5ba2']"
      ]
     },
     "execution_count": 89,
     "metadata": {},
     "output_type": "execute_result"
    }
   ],
   "source": [
    "url_combined"
   ]
  },
  {
   "cell_type": "markdown",
   "id": "6e4f5e3a",
   "metadata": {},
   "source": [
    "# Create Pandas Dataframe"
   ]
  },
  {
   "cell_type": "code",
   "execution_count": 92,
   "id": "9b4f7808",
   "metadata": {},
   "outputs": [],
   "source": [
    "product_overview=pd.DataFrame({'Name':product_name,'Price':product_price,'Rating':rating,'Rating & Review Count':rating_review_count,'Link':url_combined,'Details':product_details})"
   ]
  },
  {
   "cell_type": "code",
   "execution_count": 93,
   "id": "965fab46",
   "metadata": {
    "scrolled": true
   },
   "outputs": [
    {
     "data": {
      "text/html": [
       "<div>\n",
       "<style scoped>\n",
       "    .dataframe tbody tr th:only-of-type {\n",
       "        vertical-align: middle;\n",
       "    }\n",
       "\n",
       "    .dataframe tbody tr th {\n",
       "        vertical-align: top;\n",
       "    }\n",
       "\n",
       "    .dataframe thead th {\n",
       "        text-align: right;\n",
       "    }\n",
       "</style>\n",
       "<table border=\"1\" class=\"dataframe\">\n",
       "  <thead>\n",
       "    <tr style=\"text-align: right;\">\n",
       "      <th></th>\n",
       "      <th>Name</th>\n",
       "      <th>Price</th>\n",
       "      <th>Rating</th>\n",
       "      <th>Rating &amp; Review Count</th>\n",
       "      <th>Link</th>\n",
       "      <th>Details</th>\n",
       "    </tr>\n",
       "  </thead>\n",
       "  <tbody>\n",
       "    <tr>\n",
       "      <th>0</th>\n",
       "      <td>REDMI 9i Sport (Coral Green, 64 GB)</td>\n",
       "      <td>₹8,799</td>\n",
       "      <td>4.4</td>\n",
       "      <td>75,037 Ratings|3,981 Reviews</td>\n",
       "      <td>https://www.flipkart.com/redmi-9i-sport-coral-...</td>\n",
       "      <td>4 GB RAM | 64 GB ROM | Expandable Upto 512 GB1...</td>\n",
       "    </tr>\n",
       "    <tr>\n",
       "      <th>1</th>\n",
       "      <td>REDMI 9i Sport (Carbon Black, 64 GB)</td>\n",
       "      <td>₹8,799</td>\n",
       "      <td>4.4</td>\n",
       "      <td>75,037 Ratings|3,981 Reviews</td>\n",
       "      <td>https://www.flipkart.com/redmi-9i-sport-carbon...</td>\n",
       "      <td>4 GB RAM | 64 GB ROM | Expandable Upto 512 GB1...</td>\n",
       "    </tr>\n",
       "    <tr>\n",
       "      <th>2</th>\n",
       "      <td>REDMI Note 10S (Frost White, 128 GB)</td>\n",
       "      <td>₹15,999</td>\n",
       "      <td>4.2</td>\n",
       "      <td>12,453 Ratings|955 Reviews</td>\n",
       "      <td>https://www.flipkart.com/redmi-note-10s-frost-...</td>\n",
       "      <td>6 GB RAM | 128 GB ROM | Expandable Upto 512 GB...</td>\n",
       "    </tr>\n",
       "    <tr>\n",
       "      <th>3</th>\n",
       "      <td>REDMI Note 10S (Deep Sea Blue, 64 GB)</td>\n",
       "      <td>₹15,999</td>\n",
       "      <td>4.2</td>\n",
       "      <td>12,453 Ratings|955 Reviews</td>\n",
       "      <td>https://www.flipkart.com/redmi-note-10s-deep-s...</td>\n",
       "      <td>6 GB RAM | 64 GB ROM | Expandable Upto 512 GB1...</td>\n",
       "    </tr>\n",
       "    <tr>\n",
       "      <th>4</th>\n",
       "      <td>REDMI Note 10 Pro (Dark Night, 128 GB)</td>\n",
       "      <td>₹17,499</td>\n",
       "      <td>4.3</td>\n",
       "      <td>4,345 Ratings|363 Reviews</td>\n",
       "      <td>https://www.flipkart.com/redmi-note-10-pro-dar...</td>\n",
       "      <td>6 GB RAM | 128 GB ROM | Expandable Upto 512 GB...</td>\n",
       "    </tr>\n",
       "    <tr>\n",
       "      <th>5</th>\n",
       "      <td>REDMI 9 Activ (Metallic Purple, 64 GB)</td>\n",
       "      <td>₹10,450</td>\n",
       "      <td>4.2</td>\n",
       "      <td>1,737 Ratings|118 Reviews</td>\n",
       "      <td>https://www.flipkart.com/redmi-9-activ-metalli...</td>\n",
       "      <td>4 GB RAM | 64 GB ROM16.51 cm (6.5 inch) Displa...</td>\n",
       "    </tr>\n",
       "    <tr>\n",
       "      <th>6</th>\n",
       "      <td>REDMI Note 10S (Cosmic Purple, 128 GB)</td>\n",
       "      <td>₹17,499</td>\n",
       "      <td>4.2</td>\n",
       "      <td>2,316 Ratings|209 Reviews</td>\n",
       "      <td>https://www.flipkart.com/redmi-note-10s-cosmic...</td>\n",
       "      <td>8 GB RAM | 128 GB ROM | Expandable Upto 512 GB...</td>\n",
       "    </tr>\n",
       "    <tr>\n",
       "      <th>7</th>\n",
       "      <td>REDMI 9 Activ (Carbon Black, 64 GB)</td>\n",
       "      <td>₹10,990</td>\n",
       "      <td>4.2</td>\n",
       "      <td>1,737 Ratings|118 Reviews</td>\n",
       "      <td>https://www.flipkart.com/redmi-9-activ-carbon-...</td>\n",
       "      <td>4 GB RAM | 64 GB ROM | Expandable Upto 512 GB1...</td>\n",
       "    </tr>\n",
       "    <tr>\n",
       "      <th>8</th>\n",
       "      <td>REDMI 9 Activ (Carbon Black, 128 GB)</td>\n",
       "      <td>₹12,289</td>\n",
       "      <td>4.2</td>\n",
       "      <td>1,172 Ratings|80 Reviews</td>\n",
       "      <td>https://www.flipkart.com/redmi-9-activ-carbon-...</td>\n",
       "      <td>6 GB RAM | 128 GB ROM16.51 cm (6.5 inch) Displ...</td>\n",
       "    </tr>\n",
       "    <tr>\n",
       "      <th>9</th>\n",
       "      <td>REDMI 9 Activ (Coral Green, 64 GB)</td>\n",
       "      <td>₹10,100</td>\n",
       "      <td>4.2</td>\n",
       "      <td>1,737 Ratings|118 Reviews</td>\n",
       "      <td>https://www.flipkart.com/redmi-9-activ-coral-g...</td>\n",
       "      <td>4 GB RAM | 64 GB ROM16.51 cm (6.5 inch) Displa...</td>\n",
       "    </tr>\n",
       "    <tr>\n",
       "      <th>10</th>\n",
       "      <td>REDMI 9i (Sea Blue, 64 GB)</td>\n",
       "      <td>₹8,999</td>\n",
       "      <td>4.3</td>\n",
       "      <td>5,53,694 Ratings|33,022 Reviews</td>\n",
       "      <td>https://www.flipkart.com/redmi-9i-sea-blue-64-...</td>\n",
       "      <td>4 GB RAM | 64 GB ROM | Expandable Upto 512 GB1...</td>\n",
       "    </tr>\n",
       "    <tr>\n",
       "      <th>11</th>\n",
       "      <td>REDMI Note 10S (Deep Sea Blue, 128 GB)</td>\n",
       "      <td>₹17,499</td>\n",
       "      <td>4.2</td>\n",
       "      <td>2,316 Ratings|209 Reviews</td>\n",
       "      <td>https://www.flipkart.com/redmi-note-10s-deep-s...</td>\n",
       "      <td>8 GB RAM | 128 GB ROM | Expandable Upto 512 GB...</td>\n",
       "    </tr>\n",
       "    <tr>\n",
       "      <th>12</th>\n",
       "      <td>REDMI Note 10S (Shadow Black, 64 GB)</td>\n",
       "      <td>₹16,499</td>\n",
       "      <td>4.2</td>\n",
       "      <td>12,453 Ratings|955 Reviews</td>\n",
       "      <td>https://www.flipkart.com/redmi-note-10s-shadow...</td>\n",
       "      <td>6 GB RAM | 64 GB ROM | Expandable Upto 512 GB1...</td>\n",
       "    </tr>\n",
       "    <tr>\n",
       "      <th>13</th>\n",
       "      <td>REDMI Note 10S (Shadow Black, 128 GB)</td>\n",
       "      <td>₹18,989</td>\n",
       "      <td>4.2</td>\n",
       "      <td>2,316 Ratings|209 Reviews</td>\n",
       "      <td>https://www.flipkart.com/redmi-note-10s-shadow...</td>\n",
       "      <td>8 GB RAM | 128 GB ROM16.33 cm (6.43 inch) Full...</td>\n",
       "    </tr>\n",
       "    <tr>\n",
       "      <th>14</th>\n",
       "      <td>REDMI Note 10T 5G (Graphite Black, 64 GB)</td>\n",
       "      <td>₹13,980</td>\n",
       "      <td>4.2</td>\n",
       "      <td>1,308 Ratings|93 Reviews</td>\n",
       "      <td>https://www.flipkart.com/redmi-note-10t-5g-gra...</td>\n",
       "      <td>4 GB RAM | 64 GB ROM16.51 cm (6.5 inch) Full H...</td>\n",
       "    </tr>\n",
       "    <tr>\n",
       "      <th>15</th>\n",
       "      <td>REDMI Note 10T 5G (Chromium White, 64 GB)</td>\n",
       "      <td>₹13,999</td>\n",
       "      <td>4.2</td>\n",
       "      <td>1,308 Ratings|93 Reviews</td>\n",
       "      <td>https://www.flipkart.com/redmi-note-10t-5g-chr...</td>\n",
       "      <td>4 GB RAM | 64 GB ROM16.66 cm (6.56 inch) Full ...</td>\n",
       "    </tr>\n",
       "    <tr>\n",
       "      <th>16</th>\n",
       "      <td>REDMI 10 Prime (Astral White, 64 GB)</td>\n",
       "      <td>₹13,439</td>\n",
       "      <td>4.2</td>\n",
       "      <td>3,766 Ratings|281 Reviews</td>\n",
       "      <td>https://www.flipkart.com/redmi-10-prime-astral...</td>\n",
       "      <td>4 GB RAM | 64 GB ROM | Expandable Upto 512 GB1...</td>\n",
       "    </tr>\n",
       "    <tr>\n",
       "      <th>17</th>\n",
       "      <td>REDMI Note 10 Pro (Dark Nebula, 128 GB)</td>\n",
       "      <td>₹17,813</td>\n",
       "      <td>4.3</td>\n",
       "      <td>4,345 Ratings|363 Reviews</td>\n",
       "      <td>https://www.flipkart.com/redmi-note-10-pro-dar...</td>\n",
       "      <td>6 GB RAM | 128 GB ROM16.89 cm (6.65 inch) Disp...</td>\n",
       "    </tr>\n",
       "    <tr>\n",
       "      <th>18</th>\n",
       "      <td>REDMI Note 10 Pro (Glacial Blue, 128 GB)</td>\n",
       "      <td>₹17,640</td>\n",
       "      <td>4.3</td>\n",
       "      <td>4,345 Ratings|363 Reviews</td>\n",
       "      <td>https://www.flipkart.com/redmi-note-10-pro-gla...</td>\n",
       "      <td>6 GB RAM | 128 GB ROM16.94 cm (6.67 inch) Disp...</td>\n",
       "    </tr>\n",
       "    <tr>\n",
       "      <th>19</th>\n",
       "      <td>REDMI 9 Power (Fiery Red, 64 GB)</td>\n",
       "      <td>₹13,699</td>\n",
       "      <td>4.3</td>\n",
       "      <td>2,33,299 Ratings|16,686 Reviews</td>\n",
       "      <td>https://www.flipkart.com/redmi-9-power-fiery-r...</td>\n",
       "      <td>4 GB RAM | 64 GB ROM16.59 cm (6.53 inch) Full ...</td>\n",
       "    </tr>\n",
       "    <tr>\n",
       "      <th>20</th>\n",
       "      <td>REDMI Note 10T 5G (Mint Green, 64 GB)</td>\n",
       "      <td>₹13,990</td>\n",
       "      <td>4.2</td>\n",
       "      <td>1,308 Ratings|93 Reviews</td>\n",
       "      <td>https://www.flipkart.com/redmi-note-10t-5g-min...</td>\n",
       "      <td>4 GB RAM | 64 GB ROM16.51 cm (6.5 inch) Full H...</td>\n",
       "    </tr>\n",
       "    <tr>\n",
       "      <th>21</th>\n",
       "      <td>REDMI Note 10T 5G (Graphite Black, 128 GB)</td>\n",
       "      <td>₹15,999</td>\n",
       "      <td>4.2</td>\n",
       "      <td>830 Ratings|57 Reviews</td>\n",
       "      <td>https://www.flipkart.com/redmi-note-10t-5g-gra...</td>\n",
       "      <td>6 GB RAM | 128 GB ROM16.66 cm (6.56 inch) Full...</td>\n",
       "    </tr>\n",
       "    <tr>\n",
       "      <th>22</th>\n",
       "      <td>REDMI Note 10S (Frost White, 64 GB)</td>\n",
       "      <td>₹15,040</td>\n",
       "      <td>4.2</td>\n",
       "      <td>12,453 Ratings|955 Reviews</td>\n",
       "      <td>https://www.flipkart.com/redmi-note-10s-frost-...</td>\n",
       "      <td>6 GB RAM | 64 GB ROM16.33 cm (6.43 inch) Full ...</td>\n",
       "    </tr>\n",
       "    <tr>\n",
       "      <th>23</th>\n",
       "      <td>REDMI 9 Power (Blazing Blue, 64 GB)</td>\n",
       "      <td>₹13,699</td>\n",
       "      <td>4.3</td>\n",
       "      <td>2,33,299 Ratings|16,686 Reviews</td>\n",
       "      <td>https://www.flipkart.com/redmi-9-power-blazing...</td>\n",
       "      <td>4 GB RAM | 64 GB ROM16.59 cm (6.53 inch) Full ...</td>\n",
       "    </tr>\n",
       "  </tbody>\n",
       "</table>\n",
       "</div>"
      ],
      "text/plain": [
       "                                          Name    Price Rating  \\\n",
       "0          REDMI 9i Sport (Coral Green, 64 GB)   ₹8,799    4.4   \n",
       "1         REDMI 9i Sport (Carbon Black, 64 GB)   ₹8,799    4.4   \n",
       "2         REDMI Note 10S (Frost White, 128 GB)  ₹15,999    4.2   \n",
       "3        REDMI Note 10S (Deep Sea Blue, 64 GB)  ₹15,999    4.2   \n",
       "4       REDMI Note 10 Pro (Dark Night, 128 GB)  ₹17,499    4.3   \n",
       "5       REDMI 9 Activ (Metallic Purple, 64 GB)  ₹10,450    4.2   \n",
       "6       REDMI Note 10S (Cosmic Purple, 128 GB)  ₹17,499    4.2   \n",
       "7          REDMI 9 Activ (Carbon Black, 64 GB)  ₹10,990    4.2   \n",
       "8         REDMI 9 Activ (Carbon Black, 128 GB)  ₹12,289    4.2   \n",
       "9           REDMI 9 Activ (Coral Green, 64 GB)  ₹10,100    4.2   \n",
       "10                  REDMI 9i (Sea Blue, 64 GB)   ₹8,999    4.3   \n",
       "11      REDMI Note 10S (Deep Sea Blue, 128 GB)  ₹17,499    4.2   \n",
       "12        REDMI Note 10S (Shadow Black, 64 GB)  ₹16,499    4.2   \n",
       "13       REDMI Note 10S (Shadow Black, 128 GB)  ₹18,989    4.2   \n",
       "14   REDMI Note 10T 5G (Graphite Black, 64 GB)  ₹13,980    4.2   \n",
       "15   REDMI Note 10T 5G (Chromium White, 64 GB)  ₹13,999    4.2   \n",
       "16        REDMI 10 Prime (Astral White, 64 GB)  ₹13,439    4.2   \n",
       "17     REDMI Note 10 Pro (Dark Nebula, 128 GB)  ₹17,813    4.3   \n",
       "18    REDMI Note 10 Pro (Glacial Blue, 128 GB)  ₹17,640    4.3   \n",
       "19            REDMI 9 Power (Fiery Red, 64 GB)  ₹13,699    4.3   \n",
       "20       REDMI Note 10T 5G (Mint Green, 64 GB)  ₹13,990    4.2   \n",
       "21  REDMI Note 10T 5G (Graphite Black, 128 GB)  ₹15,999    4.2   \n",
       "22         REDMI Note 10S (Frost White, 64 GB)  ₹15,040    4.2   \n",
       "23         REDMI 9 Power (Blazing Blue, 64 GB)  ₹13,699    4.3   \n",
       "\n",
       "              Rating & Review Count  \\\n",
       "0      75,037 Ratings|3,981 Reviews   \n",
       "1      75,037 Ratings|3,981 Reviews   \n",
       "2        12,453 Ratings|955 Reviews   \n",
       "3        12,453 Ratings|955 Reviews   \n",
       "4         4,345 Ratings|363 Reviews   \n",
       "5         1,737 Ratings|118 Reviews   \n",
       "6         2,316 Ratings|209 Reviews   \n",
       "7         1,737 Ratings|118 Reviews   \n",
       "8          1,172 Ratings|80 Reviews   \n",
       "9         1,737 Ratings|118 Reviews   \n",
       "10  5,53,694 Ratings|33,022 Reviews   \n",
       "11        2,316 Ratings|209 Reviews   \n",
       "12       12,453 Ratings|955 Reviews   \n",
       "13        2,316 Ratings|209 Reviews   \n",
       "14         1,308 Ratings|93 Reviews   \n",
       "15         1,308 Ratings|93 Reviews   \n",
       "16        3,766 Ratings|281 Reviews   \n",
       "17        4,345 Ratings|363 Reviews   \n",
       "18        4,345 Ratings|363 Reviews   \n",
       "19  2,33,299 Ratings|16,686 Reviews   \n",
       "20         1,308 Ratings|93 Reviews   \n",
       "21           830 Ratings|57 Reviews   \n",
       "22       12,453 Ratings|955 Reviews   \n",
       "23  2,33,299 Ratings|16,686 Reviews   \n",
       "\n",
       "                                                 Link  \\\n",
       "0   https://www.flipkart.com/redmi-9i-sport-coral-...   \n",
       "1   https://www.flipkart.com/redmi-9i-sport-carbon...   \n",
       "2   https://www.flipkart.com/redmi-note-10s-frost-...   \n",
       "3   https://www.flipkart.com/redmi-note-10s-deep-s...   \n",
       "4   https://www.flipkart.com/redmi-note-10-pro-dar...   \n",
       "5   https://www.flipkart.com/redmi-9-activ-metalli...   \n",
       "6   https://www.flipkart.com/redmi-note-10s-cosmic...   \n",
       "7   https://www.flipkart.com/redmi-9-activ-carbon-...   \n",
       "8   https://www.flipkart.com/redmi-9-activ-carbon-...   \n",
       "9   https://www.flipkart.com/redmi-9-activ-coral-g...   \n",
       "10  https://www.flipkart.com/redmi-9i-sea-blue-64-...   \n",
       "11  https://www.flipkart.com/redmi-note-10s-deep-s...   \n",
       "12  https://www.flipkart.com/redmi-note-10s-shadow...   \n",
       "13  https://www.flipkart.com/redmi-note-10s-shadow...   \n",
       "14  https://www.flipkart.com/redmi-note-10t-5g-gra...   \n",
       "15  https://www.flipkart.com/redmi-note-10t-5g-chr...   \n",
       "16  https://www.flipkart.com/redmi-10-prime-astral...   \n",
       "17  https://www.flipkart.com/redmi-note-10-pro-dar...   \n",
       "18  https://www.flipkart.com/redmi-note-10-pro-gla...   \n",
       "19  https://www.flipkart.com/redmi-9-power-fiery-r...   \n",
       "20  https://www.flipkart.com/redmi-note-10t-5g-min...   \n",
       "21  https://www.flipkart.com/redmi-note-10t-5g-gra...   \n",
       "22  https://www.flipkart.com/redmi-note-10s-frost-...   \n",
       "23  https://www.flipkart.com/redmi-9-power-blazing...   \n",
       "\n",
       "                                              Details  \n",
       "0   4 GB RAM | 64 GB ROM | Expandable Upto 512 GB1...  \n",
       "1   4 GB RAM | 64 GB ROM | Expandable Upto 512 GB1...  \n",
       "2   6 GB RAM | 128 GB ROM | Expandable Upto 512 GB...  \n",
       "3   6 GB RAM | 64 GB ROM | Expandable Upto 512 GB1...  \n",
       "4   6 GB RAM | 128 GB ROM | Expandable Upto 512 GB...  \n",
       "5   4 GB RAM | 64 GB ROM16.51 cm (6.5 inch) Displa...  \n",
       "6   8 GB RAM | 128 GB ROM | Expandable Upto 512 GB...  \n",
       "7   4 GB RAM | 64 GB ROM | Expandable Upto 512 GB1...  \n",
       "8   6 GB RAM | 128 GB ROM16.51 cm (6.5 inch) Displ...  \n",
       "9   4 GB RAM | 64 GB ROM16.51 cm (6.5 inch) Displa...  \n",
       "10  4 GB RAM | 64 GB ROM | Expandable Upto 512 GB1...  \n",
       "11  8 GB RAM | 128 GB ROM | Expandable Upto 512 GB...  \n",
       "12  6 GB RAM | 64 GB ROM | Expandable Upto 512 GB1...  \n",
       "13  8 GB RAM | 128 GB ROM16.33 cm (6.43 inch) Full...  \n",
       "14  4 GB RAM | 64 GB ROM16.51 cm (6.5 inch) Full H...  \n",
       "15  4 GB RAM | 64 GB ROM16.66 cm (6.56 inch) Full ...  \n",
       "16  4 GB RAM | 64 GB ROM | Expandable Upto 512 GB1...  \n",
       "17  6 GB RAM | 128 GB ROM16.89 cm (6.65 inch) Disp...  \n",
       "18  6 GB RAM | 128 GB ROM16.94 cm (6.67 inch) Disp...  \n",
       "19  4 GB RAM | 64 GB ROM16.59 cm (6.53 inch) Full ...  \n",
       "20  4 GB RAM | 64 GB ROM16.51 cm (6.5 inch) Full H...  \n",
       "21  6 GB RAM | 128 GB ROM16.66 cm (6.56 inch) Full...  \n",
       "22  6 GB RAM | 64 GB ROM16.33 cm (6.43 inch) Full ...  \n",
       "23  4 GB RAM | 64 GB ROM16.59 cm (6.53 inch) Full ...  "
      ]
     },
     "execution_count": 93,
     "metadata": {},
     "output_type": "execute_result"
    }
   ],
   "source": [
    "product_overview"
   ]
  },
  {
   "cell_type": "markdown",
   "id": "72a17764",
   "metadata": {},
   "source": [
    "# Output in EXCEL "
   ]
  },
  {
   "cell_type": "code",
   "execution_count": 95,
   "id": "c7266eb2",
   "metadata": {},
   "outputs": [],
   "source": [
    "product_overview.to_excel('single_page.xlsx',index=False)"
   ]
  },
  {
   "cell_type": "markdown",
   "id": "02cf674d",
   "metadata": {},
   "source": [
    "# 2. Pagination Scaping all Pages"
   ]
  },
  {
   "cell_type": "code",
   "execution_count": 96,
   "id": "6dfa29ec",
   "metadata": {},
   "outputs": [],
   "source": [
    "product_name=[]\n",
    "product_price=[]\n",
    "rating=[]\n",
    "rating_review_count=[]\n",
    "relative_url=[]\n",
    "product_details=[]\n",
    "\n",
    "\n",
    "for i in range(1,24):\n",
    "    #website\n",
    "    website='https://www.flipkart.com/search?q=redmi+mobile&sid=tyy%2C4io&as=on&as-show=on&otracker=AS_QueryStore_OrganicAutoSuggest_1_5_na_na_na&otracker1=AS_QueryStore_OrganicAutoSuggest_1_5_na_na_na&as-pos=1&as-type=RECENT&suggestionId=redmi+mobile%7CMobiles&requestId=8c64f91a-3aa6-4275-8f26-2eb18df45fb6&as-backfill=on&page='+str(i)\n",
    "    \n",
    "    #requests\n",
    "    response=requests.get(website)\n",
    "    \n",
    "    #soup\n",
    "    soup=BeautifulSoup(response.content,'html.parser')\n",
    "    \n",
    "    #results\n",
    "    results=soup.find_all('div',{'class':'_2kHMtA'})\n",
    "    \n",
    "    #loop through results\n",
    "    for result in results:\n",
    "        \n",
    "        #product\n",
    "        try:\n",
    "            product_name.append(result.find('div',{'class':'_4rR01T'}).get_text())\n",
    "        except:\n",
    "            product.name.append('n/a')\n",
    "\n",
    "        #price\n",
    "        try:\n",
    "            product_price.append(result.find('div',{'class':'_30jeq3 _1_WHN1'}).get_text())\n",
    "        except:\n",
    "            product.price.append('n/a')\n",
    "\n",
    "        #Rating\n",
    "        try:\n",
    "            rating.append(result.find('div',{'class':'_3LWZlK'}).get_text())\n",
    "        except:\n",
    "            rating.append('n/a')\n",
    "\n",
    "        #Rating and Review Count\n",
    "        try:\n",
    "            rating_review_count.append(result.find('span',{'class':'_2_R_DZ'}).get_text().replace('\\xa0&\\xa0','|'))\n",
    "        except:\n",
    "            rating_review_count.append('n/a')\n",
    "\n",
    "        #Relative Url\n",
    "        try:\n",
    "            relative_url.append(result.find('a',{'class':'_1fQZEK'}).get('href'))\n",
    "        except:\n",
    "            relative_url.append('n/a')\n",
    "\n",
    "        #Product Details\n",
    "        try:\n",
    "            product_details.append(result.find('ul',{'class':'_1xgFaf'}).get_text())\n",
    "        except:\n",
    "            product_details.append('n/a')\n",
    "\n",
    "        \n",
    "    \n",
    "    "
   ]
  },
  {
   "cell_type": "code",
   "execution_count": 97,
   "id": "7c370395",
   "metadata": {},
   "outputs": [],
   "source": [
    "url_combined=[]\n",
    "\n",
    "for link in relative_url:\n",
    "    url_combined.append(urllib.parse.urljoin(root_url,link))\n",
    "    "
   ]
  },
  {
   "cell_type": "code",
   "execution_count": 98,
   "id": "c13c98cd",
   "metadata": {},
   "outputs": [],
   "source": [
    "product_overview=pd.DataFrame({'Name':product_name,'Price':product_price,'Rating':rating,'Rating & Review Count':rating_review_count,'Link':url_combined,'Details':product_details})"
   ]
  },
  {
   "cell_type": "code",
   "execution_count": 99,
   "id": "409f841d",
   "metadata": {},
   "outputs": [
    {
     "data": {
      "text/html": [
       "<div>\n",
       "<style scoped>\n",
       "    .dataframe tbody tr th:only-of-type {\n",
       "        vertical-align: middle;\n",
       "    }\n",
       "\n",
       "    .dataframe tbody tr th {\n",
       "        vertical-align: top;\n",
       "    }\n",
       "\n",
       "    .dataframe thead th {\n",
       "        text-align: right;\n",
       "    }\n",
       "</style>\n",
       "<table border=\"1\" class=\"dataframe\">\n",
       "  <thead>\n",
       "    <tr style=\"text-align: right;\">\n",
       "      <th></th>\n",
       "      <th>Name</th>\n",
       "      <th>Price</th>\n",
       "      <th>Rating</th>\n",
       "      <th>Rating &amp; Review Count</th>\n",
       "      <th>Link</th>\n",
       "      <th>Details</th>\n",
       "    </tr>\n",
       "  </thead>\n",
       "  <tbody>\n",
       "    <tr>\n",
       "      <th>0</th>\n",
       "      <td>REDMI 9i Sport (Coral Green, 64 GB)</td>\n",
       "      <td>₹8,799</td>\n",
       "      <td>4.4</td>\n",
       "      <td>75,037 Ratings|3,981 Reviews</td>\n",
       "      <td>https://www.flipkart.com/redmi-9i-sport-coral-...</td>\n",
       "      <td>4 GB RAM | 64 GB ROM | Expandable Upto 512 GB1...</td>\n",
       "    </tr>\n",
       "    <tr>\n",
       "      <th>1</th>\n",
       "      <td>REDMI 9i Sport (Carbon Black, 64 GB)</td>\n",
       "      <td>₹8,799</td>\n",
       "      <td>4.4</td>\n",
       "      <td>75,037 Ratings|3,981 Reviews</td>\n",
       "      <td>https://www.flipkart.com/redmi-9i-sport-carbon...</td>\n",
       "      <td>4 GB RAM | 64 GB ROM | Expandable Upto 512 GB1...</td>\n",
       "    </tr>\n",
       "    <tr>\n",
       "      <th>2</th>\n",
       "      <td>REDMI Note 10S (Deep Sea Blue, 128 GB)</td>\n",
       "      <td>₹15,999</td>\n",
       "      <td>4.2</td>\n",
       "      <td>12,453 Ratings|955 Reviews</td>\n",
       "      <td>https://www.flipkart.com/redmi-note-10s-deep-s...</td>\n",
       "      <td>6 GB RAM | 128 GB ROM | Expandable Upto 512 GB...</td>\n",
       "    </tr>\n",
       "    <tr>\n",
       "      <th>3</th>\n",
       "      <td>REDMI Note 10S (Frost White, 128 GB)</td>\n",
       "      <td>₹15,999</td>\n",
       "      <td>4.2</td>\n",
       "      <td>12,453 Ratings|955 Reviews</td>\n",
       "      <td>https://www.flipkart.com/redmi-note-10s-frost-...</td>\n",
       "      <td>6 GB RAM | 128 GB ROM | Expandable Upto 512 GB...</td>\n",
       "    </tr>\n",
       "    <tr>\n",
       "      <th>4</th>\n",
       "      <td>REDMI Note 10S (Deep Sea Blue, 64 GB)</td>\n",
       "      <td>₹15,999</td>\n",
       "      <td>4.2</td>\n",
       "      <td>12,453 Ratings|955 Reviews</td>\n",
       "      <td>https://www.flipkart.com/redmi-note-10s-deep-s...</td>\n",
       "      <td>6 GB RAM | 64 GB ROM | Expandable Upto 512 GB1...</td>\n",
       "    </tr>\n",
       "    <tr>\n",
       "      <th>...</th>\n",
       "      <td>...</td>\n",
       "      <td>...</td>\n",
       "      <td>...</td>\n",
       "      <td>...</td>\n",
       "      <td>...</td>\n",
       "      <td>...</td>\n",
       "    </tr>\n",
       "    <tr>\n",
       "      <th>547</th>\n",
       "      <td>SPICE Xlife Mi-364 (Black &amp; Blue, 512 MB)</td>\n",
       "      <td>₹2,805</td>\n",
       "      <td>3.4</td>\n",
       "      <td>56 Ratings|9 Reviews</td>\n",
       "      <td>https://www.flipkart.com/spice-xlife-mi-364-bl...</td>\n",
       "      <td>256 MB RAM | 512 MB ROM8.89 cm (3.5 inch) Disp...</td>\n",
       "    </tr>\n",
       "    <tr>\n",
       "      <th>548</th>\n",
       "      <td>Mi A2 (Gold, 128 GB)</td>\n",
       "      <td>₹20,500</td>\n",
       "      <td>4.1</td>\n",
       "      <td>3,195 Ratings|291 Reviews</td>\n",
       "      <td>https://www.flipkart.com/mi-a2-gold-128-gb/p/i...</td>\n",
       "      <td>6 GB RAM | 128 GB ROM15.21 cm (5.99 inch) Full...</td>\n",
       "    </tr>\n",
       "    <tr>\n",
       "      <th>549</th>\n",
       "      <td>Mi A3 (Not just Blue, 64 GB)</td>\n",
       "      <td>₹14,999</td>\n",
       "      <td>4.3</td>\n",
       "      <td>38,389 Ratings|3,396 Reviews</td>\n",
       "      <td>https://www.flipkart.com/mi-a3-not-just-blue-6...</td>\n",
       "      <td>4 GB RAM | 64 GB ROM | Expandable Upto 256 GB1...</td>\n",
       "    </tr>\n",
       "    <tr>\n",
       "      <th>550</th>\n",
       "      <td>Mi A3 (Kind of Grey, 64 GB)</td>\n",
       "      <td>₹14,999</td>\n",
       "      <td>4.3</td>\n",
       "      <td>38,389 Ratings|3,396 Reviews</td>\n",
       "      <td>https://www.flipkart.com/mi-a3-kind-grey-64-gb...</td>\n",
       "      <td>4 GB RAM | 64 GB ROM | Expandable Upto 256 GB1...</td>\n",
       "    </tr>\n",
       "    <tr>\n",
       "      <th>551</th>\n",
       "      <td>Mi A3 (More Than White, 64 GB)</td>\n",
       "      <td>₹14,999</td>\n",
       "      <td>4.3</td>\n",
       "      <td>38,389 Ratings|3,396 Reviews</td>\n",
       "      <td>https://www.flipkart.com/mi-a3-more-than-white...</td>\n",
       "      <td>4 GB RAM | 64 GB ROM | Expandable Upto 256 GB1...</td>\n",
       "    </tr>\n",
       "  </tbody>\n",
       "</table>\n",
       "<p>552 rows × 6 columns</p>\n",
       "</div>"
      ],
      "text/plain": [
       "                                          Name    Price Rating  \\\n",
       "0          REDMI 9i Sport (Coral Green, 64 GB)   ₹8,799    4.4   \n",
       "1         REDMI 9i Sport (Carbon Black, 64 GB)   ₹8,799    4.4   \n",
       "2       REDMI Note 10S (Deep Sea Blue, 128 GB)  ₹15,999    4.2   \n",
       "3         REDMI Note 10S (Frost White, 128 GB)  ₹15,999    4.2   \n",
       "4        REDMI Note 10S (Deep Sea Blue, 64 GB)  ₹15,999    4.2   \n",
       "..                                         ...      ...    ...   \n",
       "547  SPICE Xlife Mi-364 (Black & Blue, 512 MB)   ₹2,805    3.4   \n",
       "548                       Mi A2 (Gold, 128 GB)  ₹20,500    4.1   \n",
       "549               Mi A3 (Not just Blue, 64 GB)  ₹14,999    4.3   \n",
       "550                Mi A3 (Kind of Grey, 64 GB)  ₹14,999    4.3   \n",
       "551             Mi A3 (More Than White, 64 GB)  ₹14,999    4.3   \n",
       "\n",
       "            Rating & Review Count  \\\n",
       "0    75,037 Ratings|3,981 Reviews   \n",
       "1    75,037 Ratings|3,981 Reviews   \n",
       "2      12,453 Ratings|955 Reviews   \n",
       "3      12,453 Ratings|955 Reviews   \n",
       "4      12,453 Ratings|955 Reviews   \n",
       "..                            ...   \n",
       "547          56 Ratings|9 Reviews   \n",
       "548     3,195 Ratings|291 Reviews   \n",
       "549  38,389 Ratings|3,396 Reviews   \n",
       "550  38,389 Ratings|3,396 Reviews   \n",
       "551  38,389 Ratings|3,396 Reviews   \n",
       "\n",
       "                                                  Link  \\\n",
       "0    https://www.flipkart.com/redmi-9i-sport-coral-...   \n",
       "1    https://www.flipkart.com/redmi-9i-sport-carbon...   \n",
       "2    https://www.flipkart.com/redmi-note-10s-deep-s...   \n",
       "3    https://www.flipkart.com/redmi-note-10s-frost-...   \n",
       "4    https://www.flipkart.com/redmi-note-10s-deep-s...   \n",
       "..                                                 ...   \n",
       "547  https://www.flipkart.com/spice-xlife-mi-364-bl...   \n",
       "548  https://www.flipkart.com/mi-a2-gold-128-gb/p/i...   \n",
       "549  https://www.flipkart.com/mi-a3-not-just-blue-6...   \n",
       "550  https://www.flipkart.com/mi-a3-kind-grey-64-gb...   \n",
       "551  https://www.flipkart.com/mi-a3-more-than-white...   \n",
       "\n",
       "                                               Details  \n",
       "0    4 GB RAM | 64 GB ROM | Expandable Upto 512 GB1...  \n",
       "1    4 GB RAM | 64 GB ROM | Expandable Upto 512 GB1...  \n",
       "2    6 GB RAM | 128 GB ROM | Expandable Upto 512 GB...  \n",
       "3    6 GB RAM | 128 GB ROM | Expandable Upto 512 GB...  \n",
       "4    6 GB RAM | 64 GB ROM | Expandable Upto 512 GB1...  \n",
       "..                                                 ...  \n",
       "547  256 MB RAM | 512 MB ROM8.89 cm (3.5 inch) Disp...  \n",
       "548  6 GB RAM | 128 GB ROM15.21 cm (5.99 inch) Full...  \n",
       "549  4 GB RAM | 64 GB ROM | Expandable Upto 256 GB1...  \n",
       "550  4 GB RAM | 64 GB ROM | Expandable Upto 256 GB1...  \n",
       "551  4 GB RAM | 64 GB ROM | Expandable Upto 256 GB1...  \n",
       "\n",
       "[552 rows x 6 columns]"
      ]
     },
     "execution_count": 99,
     "metadata": {},
     "output_type": "execute_result"
    }
   ],
   "source": [
    "product_overview"
   ]
  },
  {
   "cell_type": "markdown",
   "id": "6b3662ae",
   "metadata": {},
   "source": [
    "# All Pages to Excel"
   ]
  },
  {
   "cell_type": "code",
   "execution_count": 100,
   "id": "24704ebf",
   "metadata": {},
   "outputs": [],
   "source": [
    "product_overview.to_excel('All pages results.xlsx',index=False)"
   ]
  },
  {
   "cell_type": "markdown",
   "id": "8075c789",
   "metadata": {},
   "source": [
    "# END"
   ]
  }
 ],
 "metadata": {
  "kernelspec": {
   "display_name": "Python 3 (ipykernel)",
   "language": "python",
   "name": "python3"
  },
  "language_info": {
   "codemirror_mode": {
    "name": "ipython",
    "version": 3
   },
   "file_extension": ".py",
   "mimetype": "text/x-python",
   "name": "python",
   "nbconvert_exporter": "python",
   "pygments_lexer": "ipython3",
   "version": "3.9.7"
  }
 },
 "nbformat": 4,
 "nbformat_minor": 5
}
